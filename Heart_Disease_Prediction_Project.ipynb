{
  "nbformat": 4,
  "nbformat_minor": 0,
  "metadata": {
    "colab": {
      "name": "Heart Disease Prediction Project",
      "provenance": [],
      "collapsed_sections": [],
      "authorship_tag": "ABX9TyOXtrtu6RKb7RRQXtrbBVBi",
      "include_colab_link": true
    },
    "kernelspec": {
      "name": "python3",
      "display_name": "Python 3"
    }
  },
  "cells": [
    {
      "cell_type": "markdown",
      "metadata": {
        "id": "view-in-github",
        "colab_type": "text"
      },
      "source": [
        "<a href=\"https://colab.research.google.com/github/gayathriii284/ml-beginner-project-heartDiseasePrediction/blob/main/Heart_Disease_Prediction_Project.ipynb\" target=\"_parent\"><img src=\"https://colab.research.google.com/assets/colab-badge.svg\" alt=\"Open In Colab\"/></a>"
      ]
    },
    {
      "cell_type": "code",
      "metadata": {
        "id": "M9ZqfHXNbGHZ",
        "colab": {
          "resources": {
            "http://localhost:8080/nbextensions/google.colab/files.js": {
              "data": "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",
              "ok": true,
              "headers": [
                [
                  "content-type",
                  "application/javascript"
                ]
              ],
              "status": 200,
              "status_text": ""
            }
          },
          "base_uri": "https://localhost:8080/",
          "height": 73
        },
        "outputId": "c4238e0e-921b-4f3a-8d7c-3068a1fa1c6e"
      },
      "source": [
        "from google.colab import files\n",
        "uploaded=files.upload()"
      ],
      "execution_count": null,
      "outputs": [
        {
          "output_type": "display_data",
          "data": {
            "text/html": [
              "\n",
              "     <input type=\"file\" id=\"files-55c6d2f1-1528-47e4-9022-05b21e3bda5e\" name=\"files[]\" multiple disabled\n",
              "        style=\"border:none\" />\n",
              "     <output id=\"result-55c6d2f1-1528-47e4-9022-05b21e3bda5e\">\n",
              "      Upload widget is only available when the cell has been executed in the\n",
              "      current browser session. Please rerun this cell to enable.\n",
              "      </output>\n",
              "      <script src=\"/nbextensions/google.colab/files.js\"></script> "
            ],
            "text/plain": [
              "<IPython.core.display.HTML object>"
            ]
          },
          "metadata": {
            "tags": []
          }
        },
        {
          "output_type": "stream",
          "text": [
            "Saving Heart_Disease.csv to Heart_Disease (1).csv\n"
          ],
          "name": "stdout"
        }
      ]
    },
    {
      "cell_type": "code",
      "metadata": {
        "id": "FrkiIVtfhjaR"
      },
      "source": [
        "import pandas as pd\n",
        "import numpy as np\n",
        "import matplotlib.pyplot as plt\n",
        "import seaborn as sns\n",
        "from sklearn.model_selection import train_test_split\n",
        "from sklearn.linear_model import LogisticRegression\n",
        "from sklearn.neighbors import KNeighborsClassifier\n",
        "from sklearn.ensemble import RandomForestClassifier\n",
        "from sklearn.model_selection import RandomizedSearchCV\n",
        "from sklearn.model_selection import GridSearchCV\n",
        "\n",
        "from sklearn.metrics import precision_score,f1_score,recall_score,accuracy_score,confusion_matrix,classification_report,plot_roc_curve\n",
        "from sklearn.model_selection import cross_val_score"
      ],
      "execution_count": null,
      "outputs": []
    },
    {
      "cell_type": "code",
      "metadata": {
        "id": "ISwuf-e6iaeo",
        "colab": {
          "base_uri": "https://localhost:8080/",
          "height": 404
        },
        "outputId": "ffdfdd95-d5f8-4db3-85fb-0bd4c6f1b6ac"
      },
      "source": [
        "dataset=pd.read_csv('Heart_Disease.csv')\n",
        "dataset"
      ],
      "execution_count": null,
      "outputs": [
        {
          "output_type": "execute_result",
          "data": {
            "text/html": [
              "<div>\n",
              "<style scoped>\n",
              "    .dataframe tbody tr th:only-of-type {\n",
              "        vertical-align: middle;\n",
              "    }\n",
              "\n",
              "    .dataframe tbody tr th {\n",
              "        vertical-align: top;\n",
              "    }\n",
              "\n",
              "    .dataframe thead th {\n",
              "        text-align: right;\n",
              "    }\n",
              "</style>\n",
              "<table border=\"1\" class=\"dataframe\">\n",
              "  <thead>\n",
              "    <tr style=\"text-align: right;\">\n",
              "      <th></th>\n",
              "      <th>age</th>\n",
              "      <th>sex</th>\n",
              "      <th>cp</th>\n",
              "      <th>trestbps</th>\n",
              "      <th>chol</th>\n",
              "      <th>fbs</th>\n",
              "      <th>restecg</th>\n",
              "      <th>thalach</th>\n",
              "      <th>exang</th>\n",
              "      <th>oldpeak</th>\n",
              "      <th>slope</th>\n",
              "      <th>ca</th>\n",
              "      <th>thal</th>\n",
              "      <th>target</th>\n",
              "    </tr>\n",
              "  </thead>\n",
              "  <tbody>\n",
              "    <tr>\n",
              "      <th>0</th>\n",
              "      <td>63</td>\n",
              "      <td>1</td>\n",
              "      <td>3</td>\n",
              "      <td>145</td>\n",
              "      <td>233</td>\n",
              "      <td>1</td>\n",
              "      <td>0</td>\n",
              "      <td>150</td>\n",
              "      <td>0</td>\n",
              "      <td>2.3</td>\n",
              "      <td>0</td>\n",
              "      <td>0</td>\n",
              "      <td>1</td>\n",
              "      <td>1</td>\n",
              "    </tr>\n",
              "    <tr>\n",
              "      <th>1</th>\n",
              "      <td>37</td>\n",
              "      <td>1</td>\n",
              "      <td>2</td>\n",
              "      <td>130</td>\n",
              "      <td>250</td>\n",
              "      <td>0</td>\n",
              "      <td>1</td>\n",
              "      <td>187</td>\n",
              "      <td>0</td>\n",
              "      <td>3.5</td>\n",
              "      <td>0</td>\n",
              "      <td>0</td>\n",
              "      <td>2</td>\n",
              "      <td>1</td>\n",
              "    </tr>\n",
              "    <tr>\n",
              "      <th>2</th>\n",
              "      <td>41</td>\n",
              "      <td>0</td>\n",
              "      <td>1</td>\n",
              "      <td>130</td>\n",
              "      <td>204</td>\n",
              "      <td>0</td>\n",
              "      <td>0</td>\n",
              "      <td>172</td>\n",
              "      <td>0</td>\n",
              "      <td>1.4</td>\n",
              "      <td>2</td>\n",
              "      <td>0</td>\n",
              "      <td>2</td>\n",
              "      <td>1</td>\n",
              "    </tr>\n",
              "    <tr>\n",
              "      <th>3</th>\n",
              "      <td>56</td>\n",
              "      <td>1</td>\n",
              "      <td>1</td>\n",
              "      <td>120</td>\n",
              "      <td>236</td>\n",
              "      <td>0</td>\n",
              "      <td>1</td>\n",
              "      <td>178</td>\n",
              "      <td>0</td>\n",
              "      <td>0.8</td>\n",
              "      <td>2</td>\n",
              "      <td>0</td>\n",
              "      <td>2</td>\n",
              "      <td>1</td>\n",
              "    </tr>\n",
              "    <tr>\n",
              "      <th>4</th>\n",
              "      <td>57</td>\n",
              "      <td>0</td>\n",
              "      <td>0</td>\n",
              "      <td>120</td>\n",
              "      <td>354</td>\n",
              "      <td>0</td>\n",
              "      <td>1</td>\n",
              "      <td>163</td>\n",
              "      <td>1</td>\n",
              "      <td>0.6</td>\n",
              "      <td>2</td>\n",
              "      <td>0</td>\n",
              "      <td>2</td>\n",
              "      <td>1</td>\n",
              "    </tr>\n",
              "    <tr>\n",
              "      <th>...</th>\n",
              "      <td>...</td>\n",
              "      <td>...</td>\n",
              "      <td>...</td>\n",
              "      <td>...</td>\n",
              "      <td>...</td>\n",
              "      <td>...</td>\n",
              "      <td>...</td>\n",
              "      <td>...</td>\n",
              "      <td>...</td>\n",
              "      <td>...</td>\n",
              "      <td>...</td>\n",
              "      <td>...</td>\n",
              "      <td>...</td>\n",
              "      <td>...</td>\n",
              "    </tr>\n",
              "    <tr>\n",
              "      <th>298</th>\n",
              "      <td>57</td>\n",
              "      <td>0</td>\n",
              "      <td>0</td>\n",
              "      <td>140</td>\n",
              "      <td>241</td>\n",
              "      <td>0</td>\n",
              "      <td>1</td>\n",
              "      <td>123</td>\n",
              "      <td>1</td>\n",
              "      <td>0.2</td>\n",
              "      <td>1</td>\n",
              "      <td>0</td>\n",
              "      <td>3</td>\n",
              "      <td>0</td>\n",
              "    </tr>\n",
              "    <tr>\n",
              "      <th>299</th>\n",
              "      <td>45</td>\n",
              "      <td>1</td>\n",
              "      <td>3</td>\n",
              "      <td>110</td>\n",
              "      <td>264</td>\n",
              "      <td>0</td>\n",
              "      <td>1</td>\n",
              "      <td>132</td>\n",
              "      <td>0</td>\n",
              "      <td>1.2</td>\n",
              "      <td>1</td>\n",
              "      <td>0</td>\n",
              "      <td>3</td>\n",
              "      <td>0</td>\n",
              "    </tr>\n",
              "    <tr>\n",
              "      <th>300</th>\n",
              "      <td>68</td>\n",
              "      <td>1</td>\n",
              "      <td>0</td>\n",
              "      <td>144</td>\n",
              "      <td>193</td>\n",
              "      <td>1</td>\n",
              "      <td>1</td>\n",
              "      <td>141</td>\n",
              "      <td>0</td>\n",
              "      <td>3.4</td>\n",
              "      <td>1</td>\n",
              "      <td>2</td>\n",
              "      <td>3</td>\n",
              "      <td>0</td>\n",
              "    </tr>\n",
              "    <tr>\n",
              "      <th>301</th>\n",
              "      <td>57</td>\n",
              "      <td>1</td>\n",
              "      <td>0</td>\n",
              "      <td>130</td>\n",
              "      <td>131</td>\n",
              "      <td>0</td>\n",
              "      <td>1</td>\n",
              "      <td>115</td>\n",
              "      <td>1</td>\n",
              "      <td>1.2</td>\n",
              "      <td>1</td>\n",
              "      <td>1</td>\n",
              "      <td>3</td>\n",
              "      <td>0</td>\n",
              "    </tr>\n",
              "    <tr>\n",
              "      <th>302</th>\n",
              "      <td>57</td>\n",
              "      <td>0</td>\n",
              "      <td>1</td>\n",
              "      <td>130</td>\n",
              "      <td>236</td>\n",
              "      <td>0</td>\n",
              "      <td>0</td>\n",
              "      <td>174</td>\n",
              "      <td>0</td>\n",
              "      <td>0.0</td>\n",
              "      <td>1</td>\n",
              "      <td>1</td>\n",
              "      <td>2</td>\n",
              "      <td>0</td>\n",
              "    </tr>\n",
              "  </tbody>\n",
              "</table>\n",
              "<p>303 rows × 14 columns</p>\n",
              "</div>"
            ],
            "text/plain": [
              "     age  sex  cp  trestbps  chol  fbs  ...  exang  oldpeak  slope  ca  thal  target\n",
              "0     63    1   3       145   233    1  ...      0      2.3      0   0     1       1\n",
              "1     37    1   2       130   250    0  ...      0      3.5      0   0     2       1\n",
              "2     41    0   1       130   204    0  ...      0      1.4      2   0     2       1\n",
              "3     56    1   1       120   236    0  ...      0      0.8      2   0     2       1\n",
              "4     57    0   0       120   354    0  ...      1      0.6      2   0     2       1\n",
              "..   ...  ...  ..       ...   ...  ...  ...    ...      ...    ...  ..   ...     ...\n",
              "298   57    0   0       140   241    0  ...      1      0.2      1   0     3       0\n",
              "299   45    1   3       110   264    0  ...      0      1.2      1   0     3       0\n",
              "300   68    1   0       144   193    1  ...      0      3.4      1   2     3       0\n",
              "301   57    1   0       130   131    0  ...      1      1.2      1   1     3       0\n",
              "302   57    0   1       130   236    0  ...      0      0.0      1   1     2       0\n",
              "\n",
              "[303 rows x 14 columns]"
            ]
          },
          "metadata": {
            "tags": []
          },
          "execution_count": 69
        }
      ]
    },
    {
      "cell_type": "markdown",
      "metadata": {
        "id": "Va7ZD_ucpM7Y"
      },
      "source": [
        "#**Dataset Description:**\n",
        "1. age: age in years\n",
        "2. sex: sex (1 = male; 0 = female)\n",
        "3. cp: chest pain type\n",
        "     1. Value 0: typical angina\n",
        "     2. Value 1: atypical angina\n",
        "     3. Value 2: non-anginal pain\n",
        "     4. Value 3: asymptomatic\n",
        "4. trestbps: resting blood pressure (in mm Hg on admission to the hospital)\n",
        "5. chol: serum cholestoral in mg/dl\n",
        "6. fbs: (fasting blood sugar > 120 mg/dl) (1 = true; 0 = false)\n",
        "7. restecg: resting electrocardiographic results\n",
        "     1. Value 0: normal\n",
        "     2. Value 1: having ST-T wave abnormality (T wave inversions and/or ST elevation or depression of > 0.05 mV)\n",
        "     3. Value 2: showing probable or definite left ventricular hypertrophy by Estes' criteria\n",
        "8. thalach: maximum heart rate achieved\n",
        "9. exang: exercise induced angina (1 = yes; 0 = no)\n",
        "10. oldpeak = ST depression induced by exercise relative to rest\n",
        "11. slope: the slope of the peak exercise ST segment\n",
        "     1. Value 0: upsloping\n",
        "     2. Value 1: flat\n",
        "     3. Value 2: downsloping\n",
        "12. ca: number of major vessels (0-3) colored by flourosopy\n",
        "13. thal: 3 = normal; 6 = fixed defect; 7 = reversable defect\n",
        "14. target:0=no heart disease,1=heart disease\n",
        "\n",
        "\n",
        "\n",
        "\n",
        "\n",
        "\n",
        "\n"
      ]
    },
    {
      "cell_type": "code",
      "metadata": {
        "id": "0sD9nDfJoRkD"
      },
      "source": [
        "#split into X,y\n",
        "X=dataset.drop('target',axis=1)\n",
        "y=dataset['target']"
      ],
      "execution_count": null,
      "outputs": []
    },
    {
      "cell_type": "code",
      "metadata": {
        "id": "vkvpYGWuoevv",
        "colab": {
          "base_uri": "https://localhost:8080/"
        },
        "outputId": "8ec4e2af-29d7-40fd-a294-1be6270bf07d"
      },
      "source": [
        "#from this you get information about ur dataset(presence of missing values,datatypes,shape)\n",
        "dataset.info()"
      ],
      "execution_count": null,
      "outputs": [
        {
          "output_type": "stream",
          "text": [
            "<class 'pandas.core.frame.DataFrame'>\n",
            "RangeIndex: 303 entries, 0 to 302\n",
            "Data columns (total 14 columns):\n",
            " #   Column    Non-Null Count  Dtype  \n",
            "---  ------    --------------  -----  \n",
            " 0   age       303 non-null    int64  \n",
            " 1   sex       303 non-null    int64  \n",
            " 2   cp        303 non-null    int64  \n",
            " 3   trestbps  303 non-null    int64  \n",
            " 4   chol      303 non-null    int64  \n",
            " 5   fbs       303 non-null    int64  \n",
            " 6   restecg   303 non-null    int64  \n",
            " 7   thalach   303 non-null    int64  \n",
            " 8   exang     303 non-null    int64  \n",
            " 9   oldpeak   303 non-null    float64\n",
            " 10  slope     303 non-null    int64  \n",
            " 11  ca        303 non-null    int64  \n",
            " 12  thal      303 non-null    int64  \n",
            " 13  target    303 non-null    int64  \n",
            "dtypes: float64(1), int64(13)\n",
            "memory usage: 33.3 KB\n"
          ],
          "name": "stdout"
        }
      ]
    },
    {
      "cell_type": "code",
      "metadata": {
        "id": "c8IjZzR90jtV",
        "colab": {
          "base_uri": "https://localhost:8080/"
        },
        "outputId": "146eb3da-56b9-4cbe-fa4f-113669247dab"
      },
      "source": [
        "dataset.target.value_counts()"
      ],
      "execution_count": null,
      "outputs": [
        {
          "output_type": "execute_result",
          "data": {
            "text/plain": [
              "1    165\n",
              "0    138\n",
              "Name: target, dtype: int64"
            ]
          },
          "metadata": {
            "tags": []
          },
          "execution_count": 72
        }
      ]
    },
    {
      "cell_type": "markdown",
      "metadata": {
        "id": "V-wbh2Hr1Avl"
      },
      "source": [
        "\n",
        "\n",
        "```\n",
        "Here,our dataset is balanced since we have almost equal numbers of 0s and 1s as targets.\n",
        "```\n",
        "\n"
      ]
    },
    {
      "cell_type": "markdown",
      "metadata": {
        "id": "-vXo1RlcxxrC"
      },
      "source": [
        "#**Exploratory Data Analysis:**"
      ]
    },
    {
      "cell_type": "markdown",
      "metadata": {
        "id": "dE-jdmMozQdD"
      },
      "source": [
        "####Relationship Between Sex and Heart Disease:"
      ]
    },
    {
      "cell_type": "code",
      "metadata": {
        "id": "3hAPKhLotyMh",
        "colab": {
          "base_uri": "https://localhost:8080/",
          "height": 137
        },
        "outputId": "1e72a5b6-0ccb-4334-a4b7-ae77bf35b4f6"
      },
      "source": [
        "#Using crosstab:\n",
        "pd.crosstab(dataset.sex,dataset.target)"
      ],
      "execution_count": null,
      "outputs": [
        {
          "output_type": "execute_result",
          "data": {
            "text/html": [
              "<div>\n",
              "<style scoped>\n",
              "    .dataframe tbody tr th:only-of-type {\n",
              "        vertical-align: middle;\n",
              "    }\n",
              "\n",
              "    .dataframe tbody tr th {\n",
              "        vertical-align: top;\n",
              "    }\n",
              "\n",
              "    .dataframe thead th {\n",
              "        text-align: right;\n",
              "    }\n",
              "</style>\n",
              "<table border=\"1\" class=\"dataframe\">\n",
              "  <thead>\n",
              "    <tr style=\"text-align: right;\">\n",
              "      <th>target</th>\n",
              "      <th>0</th>\n",
              "      <th>1</th>\n",
              "    </tr>\n",
              "    <tr>\n",
              "      <th>sex</th>\n",
              "      <th></th>\n",
              "      <th></th>\n",
              "    </tr>\n",
              "  </thead>\n",
              "  <tbody>\n",
              "    <tr>\n",
              "      <th>0</th>\n",
              "      <td>24</td>\n",
              "      <td>72</td>\n",
              "    </tr>\n",
              "    <tr>\n",
              "      <th>1</th>\n",
              "      <td>114</td>\n",
              "      <td>93</td>\n",
              "    </tr>\n",
              "  </tbody>\n",
              "</table>\n",
              "</div>"
            ],
            "text/plain": [
              "target    0   1\n",
              "sex            \n",
              "0        24  72\n",
              "1       114  93"
            ]
          },
          "metadata": {
            "tags": []
          },
          "execution_count": 73
        }
      ]
    },
    {
      "cell_type": "code",
      "metadata": {
        "id": "grHJXReL6vx_",
        "colab": {
          "base_uri": "https://localhost:8080/"
        },
        "outputId": "dff2b87f-7534-492a-ae73-558b371ace4d"
      },
      "source": [
        "dataset.sex.value_counts()"
      ],
      "execution_count": null,
      "outputs": [
        {
          "output_type": "execute_result",
          "data": {
            "text/plain": [
              "1    207\n",
              "0     96\n",
              "Name: sex, dtype: int64"
            ]
          },
          "metadata": {
            "tags": []
          },
          "execution_count": 74
        }
      ]
    },
    {
      "cell_type": "code",
      "metadata": {
        "id": "M9ezXU280VI8",
        "colab": {
          "base_uri": "https://localhost:8080/",
          "height": 318
        },
        "outputId": "4ec004d4-8384-4339-f9dc-d1b467df06a7"
      },
      "source": [
        "#visualizing the crosstab:\n",
        "pd.crosstab(dataset.sex,dataset.target).plot(kind='bar',\n",
        "                                   color=['salmon','lightblue'] );\n",
        "plt.title('Relationship between sex and Heart Disease')\n",
        "plt.ylabel('no. of males/females')\n",
        "plt.xlabel('sex(1:male,0:female)')\n",
        "plt.legend(['No Heart Disease','Heart Disease'])\n",
        "plt.xticks(rotation=0); #to make the 0 and 1 straight(x axis)"
      ],
      "execution_count": null,
      "outputs": [
        {
          "output_type": "display_data",
          "data": {
            "image/png": "[encoded data removed]",
            "text/plain": [
              "<Figure size 432x288 with 1 Axes>"
            ]
          },
          "metadata": {
            "tags": []
          }
        }
      ]
    },
    {
      "cell_type": "markdown",
      "metadata": {
        "id": "qhKpYrj36gk9"
      },
      "source": [
        "* *Out of 96 females,nearly 75%(72/96 as shown in the crosstab)of them suffer from heart disease*\n",
        "* *Out of 207 males,nearly 50%(93/207 as shown in crosstab)of them suffer from heart disease*\n"
      ]
    },
    {
      "cell_type": "markdown",
      "metadata": {
        "id": "3RzS3-xl8D2G"
      },
      "source": [
        "*Thus almost 62.5% of individuals(females and males) suffer from heart disease.*"
      ]
    },
    {
      "cell_type": "markdown",
      "metadata": {
        "id": "phZiMLzpBB0c"
      },
      "source": [
        "### Heart Disease as a function of age and maximum heart rate(thalach):"
      ]
    },
    {
      "cell_type": "code",
      "metadata": {
        "id": "DaayXzeO0rM0",
        "colab": {
          "base_uri": "https://localhost:8080/"
        },
        "outputId": "f3646e77-e360-4df2-e1ec-981075847b37"
      },
      "source": [
        "dataset.thalach.value_counts()"
      ],
      "execution_count": null,
      "outputs": [
        {
          "output_type": "execute_result",
          "data": {
            "text/plain": [
              "162    11\n",
              "160     9\n",
              "163     9\n",
              "173     8\n",
              "152     8\n",
              "       ..\n",
              "129     1\n",
              "128     1\n",
              "127     1\n",
              "124     1\n",
              "71      1\n",
              "Name: thalach, Length: 91, dtype: int64"
            ]
          },
          "metadata": {
            "tags": []
          },
          "execution_count": 76
        }
      ]
    },
    {
      "cell_type": "markdown",
      "metadata": {
        "id": "UaNMdKbAC17M"
      },
      "source": [
        "\n",
        "\n",
        "```\n",
        "* Here length:91 indicates 91 types of different values for the feature thalach.\n",
        "* We cant represent so many values using a bargraph.\n",
        "* So we use a scatter plot.\n",
        "```\n",
        "\n"
      ]
    },
    {
      "cell_type": "code",
      "metadata": {
        "id": "Jn_6tWVdB0oI",
        "colab": {
          "base_uri": "https://localhost:8080/",
          "height": 318
        },
        "outputId": "a812d7bb-248f-433b-8eb1-54b31d83c5ff"
      },
      "source": [
        "#creating a scatter plot for age and thalach\n",
        "#With heart disease:\n",
        "plt.scatter(dataset.age[dataset.target==1],dataset.thalach[dataset.target==1],\n",
        "            color=['lightblue']) #we can observe a downward trend for this scatter plot\n",
        "#Without heart disease:\n",
        "plt.scatter(dataset.age[dataset.target==0],dataset.thalach[dataset.target==0],\n",
        "            color=['salmon'])\n",
        "plt.title('Heart Disease as a function of age and max heart rate')\n",
        "plt.xlabel('Age')\n",
        "plt.ylabel('Max Heart Rate')\n",
        "plt.legend(['Heart Disease','No Heart Disease']);"
      ],
      "execution_count": null,
      "outputs": [
        {
          "output_type": "display_data",
          "data": {
            "image/png": "[encoded data removed]",
            "text/plain": [
              "<Figure size 432x288 with 1 Axes>"
            ]
          },
          "metadata": {
            "tags": []
          }
        }
      ]
    },
    {
      "cell_type": "markdown",
      "metadata": {
        "id": "JuTMAX8aKfzB"
      },
      "source": [
        "* *From this scatter plot,we infer that a younger person has higher heart rate and it reduces as the person ages.*\n",
        "* *Also,we can see a downward trend,however its very difficult to find patterns from this plot to seperate the red and blue points and might take time.*"
      ]
    },
    {
      "cell_type": "markdown",
      "metadata": {
        "id": "ibub14xOLRED"
      },
      "source": [
        "* *Thus we want our algorithm to figure out the remaining patterns.*\n",
        "* *Also,we have to figure put if there are any outliers or not and eradicate them or keep them accordingly.i.e. age of a person beyond 100 or below 10 can be considered as an outlier and we need to decide whether we want to keep them,or train our model to fit the outliers.*"
      ]
    },
    {
      "cell_type": "markdown",
      "metadata": {
        "id": "fgehMs6gMHkw"
      },
      "source": [
        "*Thus we can check the distrubution of age(using a histogram)*"
      ]
    },
    {
      "cell_type": "code",
      "metadata": {
        "id": "x23KCVSmCGWC",
        "colab": {
          "base_uri": "https://localhost:8080/",
          "height": 296
        },
        "outputId": "13fc70ae-9c46-4471-82fb-0ca744dfce19"
      },
      "source": [
        "dataset.age.plot.hist()\n",
        "plt.title('Distribution of age across the dataset');"
      ],
      "execution_count": null,
      "outputs": [
        {
          "output_type": "display_data",
          "data": {
            "image/png": "[encoded data removed]",
            "text/plain": [
              "<Figure size 432x288 with 1 Axes>"
            ]
          },
          "metadata": {
            "tags": []
          }
        }
      ]
    },
    {
      "cell_type": "markdown",
      "metadata": {
        "id": "F1xK1cWxA_zY"
      },
      "source": [
        "*The histogram shows that there are more number of people in the dataset between the age 50-60*"
      ]
    },
    {
      "cell_type": "markdown",
      "metadata": {
        "id": "WSrgYgmgBO1z"
      },
      "source": [
        "### Heart Disease frequency per chest pain type(cp):"
      ]
    },
    {
      "cell_type": "markdown",
      "metadata": {
        "id": "cQrdE_p4Be4A"
      },
      "source": [
        "* cp: chest pain type\n",
        "     * Value 0: typical angina:discomfort that is noted when the heart does not get enough blood or oxygen.\n",
        "     * Value 1: atypical angina:noncardiac causes of chest pain.\n",
        "     * Value 2: non-anginal pain:chest pain is related to a problem with the esophagus.\n",
        "     * Value 3: asymptomatic:No symptoms."
      ]
    },
    {
      "cell_type": "code",
      "metadata": {
        "id": "Vog-ZNwwMVS0",
        "colab": {
          "base_uri": "https://localhost:8080/",
          "height": 196
        },
        "outputId": "fc001b87-edf3-417d-b9a2-e8f7a35687d0"
      },
      "source": [
        "ct_cp=pd.crosstab(dataset.cp,dataset.target)\n",
        "ct_cp"
      ],
      "execution_count": null,
      "outputs": [
        {
          "output_type": "execute_result",
          "data": {
            "text/html": [
              "<div>\n",
              "<style scoped>\n",
              "    .dataframe tbody tr th:only-of-type {\n",
              "        vertical-align: middle;\n",
              "    }\n",
              "\n",
              "    .dataframe tbody tr th {\n",
              "        vertical-align: top;\n",
              "    }\n",
              "\n",
              "    .dataframe thead th {\n",
              "        text-align: right;\n",
              "    }\n",
              "</style>\n",
              "<table border=\"1\" class=\"dataframe\">\n",
              "  <thead>\n",
              "    <tr style=\"text-align: right;\">\n",
              "      <th>target</th>\n",
              "      <th>0</th>\n",
              "      <th>1</th>\n",
              "    </tr>\n",
              "    <tr>\n",
              "      <th>cp</th>\n",
              "      <th></th>\n",
              "      <th></th>\n",
              "    </tr>\n",
              "  </thead>\n",
              "  <tbody>\n",
              "    <tr>\n",
              "      <th>0</th>\n",
              "      <td>104</td>\n",
              "      <td>39</td>\n",
              "    </tr>\n",
              "    <tr>\n",
              "      <th>1</th>\n",
              "      <td>9</td>\n",
              "      <td>41</td>\n",
              "    </tr>\n",
              "    <tr>\n",
              "      <th>2</th>\n",
              "      <td>18</td>\n",
              "      <td>69</td>\n",
              "    </tr>\n",
              "    <tr>\n",
              "      <th>3</th>\n",
              "      <td>7</td>\n",
              "      <td>16</td>\n",
              "    </tr>\n",
              "  </tbody>\n",
              "</table>\n",
              "</div>"
            ],
            "text/plain": [
              "target    0   1\n",
              "cp             \n",
              "0       104  39\n",
              "1         9  41\n",
              "2        18  69\n",
              "3         7  16"
            ]
          },
          "metadata": {
            "tags": []
          },
          "execution_count": 79
        }
      ]
    },
    {
      "cell_type": "code",
      "metadata": {
        "id": "U-NMMT9XEE8S",
        "colab": {
          "base_uri": "https://localhost:8080/",
          "height": 427
        },
        "outputId": "0d739d76-5227-4da2-a9e8-32980e18a727"
      },
      "source": [
        "#visualizing the crosstab\n",
        "ct_cp.plot(kind='bar',\n",
        "           figsize=(10,6),\n",
        "           color=['salmon','lightblue'])\n",
        "plt.title('Heart disease frequency per chest pain type')\n",
        "plt.xlabel('chest pain type')\n",
        "plt.ylabel('frequency')\n",
        "plt.legend(['No Heart disease','Heart Disease'])\n",
        "plt.xticks(rotation=0);"
      ],
      "execution_count": null,
      "outputs": [
        {
          "output_type": "display_data",
          "data": {
            "image/png": "[encoded data removed]",
            "text/plain": [
              "<Figure size 720x432 with 1 Axes>"
            ]
          },
          "metadata": {
            "tags": []
          }
        }
      ]
    },
    {
      "cell_type": "markdown",
      "metadata": {
        "id": "hGvi1nvPFe_m"
      },
      "source": [
        "*From the graph,its clear that the frequency of heart disease is more for chest pain type 2:non anginal chest pain,compared to other types chest pain.*"
      ]
    },
    {
      "cell_type": "markdown",
      "metadata": {
        "id": "XLNh5nQmGTkI"
      },
      "source": [
        "### Heart Disease frequency for exang:"
      ]
    },
    {
      "cell_type": "code",
      "metadata": {
        "id": "9h4sO2B6E5m9",
        "colab": {
          "base_uri": "https://localhost:8080/",
          "height": 137
        },
        "outputId": "7c20beb1-c9fe-4d36-ad38-79bdf811f3b0"
      },
      "source": [
        "ct_ex=pd.crosstab(dataset.exang,dataset.target)\n",
        "ct_ex"
      ],
      "execution_count": null,
      "outputs": [
        {
          "output_type": "execute_result",
          "data": {
            "text/html": [
              "<div>\n",
              "<style scoped>\n",
              "    .dataframe tbody tr th:only-of-type {\n",
              "        vertical-align: middle;\n",
              "    }\n",
              "\n",
              "    .dataframe tbody tr th {\n",
              "        vertical-align: top;\n",
              "    }\n",
              "\n",
              "    .dataframe thead th {\n",
              "        text-align: right;\n",
              "    }\n",
              "</style>\n",
              "<table border=\"1\" class=\"dataframe\">\n",
              "  <thead>\n",
              "    <tr style=\"text-align: right;\">\n",
              "      <th>target</th>\n",
              "      <th>0</th>\n",
              "      <th>1</th>\n",
              "    </tr>\n",
              "    <tr>\n",
              "      <th>exang</th>\n",
              "      <th></th>\n",
              "      <th></th>\n",
              "    </tr>\n",
              "  </thead>\n",
              "  <tbody>\n",
              "    <tr>\n",
              "      <th>0</th>\n",
              "      <td>62</td>\n",
              "      <td>142</td>\n",
              "    </tr>\n",
              "    <tr>\n",
              "      <th>1</th>\n",
              "      <td>76</td>\n",
              "      <td>23</td>\n",
              "    </tr>\n",
              "  </tbody>\n",
              "</table>\n",
              "</div>"
            ],
            "text/plain": [
              "target   0    1\n",
              "exang          \n",
              "0       62  142\n",
              "1       76   23"
            ]
          },
          "metadata": {
            "tags": []
          },
          "execution_count": 81
        }
      ]
    },
    {
      "cell_type": "code",
      "metadata": {
        "id": "C-7iWcboGqii",
        "colab": {
          "base_uri": "https://localhost:8080/",
          "height": 318
        },
        "outputId": "1d5bc79a-ad96-4045-ed8d-c07e391dd25d"
      },
      "source": [
        "#visualizing this:\n",
        "ct_ex.plot(kind='bar',\n",
        "           color=['salmon','lightblue'])\n",
        "plt.title('Heart disease Frequency for exang')\n",
        "plt.xlabel('0:no exang,1:exang')\n",
        "plt.legend(['No Heart Disease','Heart Disease'])\n",
        "plt.xticks(rotation=0);"
      ],
      "execution_count": null,
      "outputs": [
        {
          "output_type": "display_data",
          "data": {
            "image/png": "[encoded data removed]",
            "text/plain": [
              "<Figure size 432x288 with 1 Axes>"
            ]
          },
          "metadata": {
            "tags": []
          }
        }
      ]
    },
    {
      "cell_type": "markdown",
      "metadata": {
        "id": "KtPTv0BZH1F8"
      },
      "source": [
        "*The graph shows that individuals who do not have excercise induced angina did have heart disease which is quite contrary to what we'd expect.Thus it shows a negative correlation(as exang increases,target decreases).*"
      ]
    },
    {
      "cell_type": "markdown",
      "metadata": {
        "id": "QF_7Ky1LIbwZ"
      },
      "source": [
        "### Correaltion between independent and dependent variables:"
      ]
    },
    {
      "cell_type": "code",
      "metadata": {
        "id": "S-HaYZCuHIKu",
        "colab": {
          "base_uri": "https://localhost:8080/",
          "height": 465
        },
        "outputId": "1ee23c28-2476-401d-c1ca-434628664236"
      },
      "source": [
        "corr_matrix=dataset.corr()\n",
        "corr_matrix"
      ],
      "execution_count": null,
      "outputs": [
        {
          "output_type": "execute_result",
          "data": {
            "text/html": [
              "<div>\n",
              "<style scoped>\n",
              "    .dataframe tbody tr th:only-of-type {\n",
              "        vertical-align: middle;\n",
              "    }\n",
              "\n",
              "    .dataframe tbody tr th {\n",
              "        vertical-align: top;\n",
              "    }\n",
              "\n",
              "    .dataframe thead th {\n",
              "        text-align: right;\n",
              "    }\n",
              "</style>\n",
              "<table border=\"1\" class=\"dataframe\">\n",
              "  <thead>\n",
              "    <tr style=\"text-align: right;\">\n",
              "      <th></th>\n",
              "      <th>age</th>\n",
              "      <th>sex</th>\n",
              "      <th>cp</th>\n",
              "      <th>trestbps</th>\n",
              "      <th>chol</th>\n",
              "      <th>fbs</th>\n",
              "      <th>restecg</th>\n",
              "      <th>thalach</th>\n",
              "      <th>exang</th>\n",
              "      <th>oldpeak</th>\n",
              "      <th>slope</th>\n",
              "      <th>ca</th>\n",
              "      <th>thal</th>\n",
              "      <th>target</th>\n",
              "    </tr>\n",
              "  </thead>\n",
              "  <tbody>\n",
              "    <tr>\n",
              "      <th>age</th>\n",
              "      <td>1.000000</td>\n",
              "      <td>-0.098447</td>\n",
              "      <td>-0.068653</td>\n",
              "      <td>0.279351</td>\n",
              "      <td>0.213678</td>\n",
              "      <td>0.121308</td>\n",
              "      <td>-0.116211</td>\n",
              "      <td>-0.398522</td>\n",
              "      <td>0.096801</td>\n",
              "      <td>0.210013</td>\n",
              "      <td>-0.168814</td>\n",
              "      <td>0.276326</td>\n",
              "      <td>0.068001</td>\n",
              "      <td>-0.225439</td>\n",
              "    </tr>\n",
              "    <tr>\n",
              "      <th>sex</th>\n",
              "      <td>-0.098447</td>\n",
              "      <td>1.000000</td>\n",
              "      <td>-0.049353</td>\n",
              "      <td>-0.056769</td>\n",
              "      <td>-0.197912</td>\n",
              "      <td>0.045032</td>\n",
              "      <td>-0.058196</td>\n",
              "      <td>-0.044020</td>\n",
              "      <td>0.141664</td>\n",
              "      <td>0.096093</td>\n",
              "      <td>-0.030711</td>\n",
              "      <td>0.118261</td>\n",
              "      <td>0.210041</td>\n",
              "      <td>-0.280937</td>\n",
              "    </tr>\n",
              "    <tr>\n",
              "      <th>cp</th>\n",
              "      <td>-0.068653</td>\n",
              "      <td>-0.049353</td>\n",
              "      <td>1.000000</td>\n",
              "      <td>0.047608</td>\n",
              "      <td>-0.076904</td>\n",
              "      <td>0.094444</td>\n",
              "      <td>0.044421</td>\n",
              "      <td>0.295762</td>\n",
              "      <td>-0.394280</td>\n",
              "      <td>-0.149230</td>\n",
              "      <td>0.119717</td>\n",
              "      <td>-0.181053</td>\n",
              "      <td>-0.161736</td>\n",
              "      <td>0.433798</td>\n",
              "    </tr>\n",
              "    <tr>\n",
              "      <th>trestbps</th>\n",
              "      <td>0.279351</td>\n",
              "      <td>-0.056769</td>\n",
              "      <td>0.047608</td>\n",
              "      <td>1.000000</td>\n",
              "      <td>0.123174</td>\n",
              "      <td>0.177531</td>\n",
              "      <td>-0.114103</td>\n",
              "      <td>-0.046698</td>\n",
              "      <td>0.067616</td>\n",
              "      <td>0.193216</td>\n",
              "      <td>-0.121475</td>\n",
              "      <td>0.101389</td>\n",
              "      <td>0.062210</td>\n",
              "      <td>-0.144931</td>\n",
              "    </tr>\n",
              "    <tr>\n",
              "      <th>chol</th>\n",
              "      <td>0.213678</td>\n",
              "      <td>-0.197912</td>\n",
              "      <td>-0.076904</td>\n",
              "      <td>0.123174</td>\n",
              "      <td>1.000000</td>\n",
              "      <td>0.013294</td>\n",
              "      <td>-0.151040</td>\n",
              "      <td>-0.009940</td>\n",
              "      <td>0.067023</td>\n",
              "      <td>0.053952</td>\n",
              "      <td>-0.004038</td>\n",
              "      <td>0.070511</td>\n",
              "      <td>0.098803</td>\n",
              "      <td>-0.085239</td>\n",
              "    </tr>\n",
              "    <tr>\n",
              "      <th>fbs</th>\n",
              "      <td>0.121308</td>\n",
              "      <td>0.045032</td>\n",
              "      <td>0.094444</td>\n",
              "      <td>0.177531</td>\n",
              "      <td>0.013294</td>\n",
              "      <td>1.000000</td>\n",
              "      <td>-0.084189</td>\n",
              "      <td>-0.008567</td>\n",
              "      <td>0.025665</td>\n",
              "      <td>0.005747</td>\n",
              "      <td>-0.059894</td>\n",
              "      <td>0.137979</td>\n",
              "      <td>-0.032019</td>\n",
              "      <td>-0.028046</td>\n",
              "    </tr>\n",
              "    <tr>\n",
              "      <th>restecg</th>\n",
              "      <td>-0.116211</td>\n",
              "      <td>-0.058196</td>\n",
              "      <td>0.044421</td>\n",
              "      <td>-0.114103</td>\n",
              "      <td>-0.151040</td>\n",
              "      <td>-0.084189</td>\n",
              "      <td>1.000000</td>\n",
              "      <td>0.044123</td>\n",
              "      <td>-0.070733</td>\n",
              "      <td>-0.058770</td>\n",
              "      <td>0.093045</td>\n",
              "      <td>-0.072042</td>\n",
              "      <td>-0.011981</td>\n",
              "      <td>0.137230</td>\n",
              "    </tr>\n",
              "    <tr>\n",
              "      <th>thalach</th>\n",
              "      <td>-0.398522</td>\n",
              "      <td>-0.044020</td>\n",
              "      <td>0.295762</td>\n",
              "      <td>-0.046698</td>\n",
              "      <td>-0.009940</td>\n",
              "      <td>-0.008567</td>\n",
              "      <td>0.044123</td>\n",
              "      <td>1.000000</td>\n",
              "      <td>-0.378812</td>\n",
              "      <td>-0.344187</td>\n",
              "      <td>0.386784</td>\n",
              "      <td>-0.213177</td>\n",
              "      <td>-0.096439</td>\n",
              "      <td>0.421741</td>\n",
              "    </tr>\n",
              "    <tr>\n",
              "      <th>exang</th>\n",
              "      <td>0.096801</td>\n",
              "      <td>0.141664</td>\n",
              "      <td>-0.394280</td>\n",
              "      <td>0.067616</td>\n",
              "      <td>0.067023</td>\n",
              "      <td>0.025665</td>\n",
              "      <td>-0.070733</td>\n",
              "      <td>-0.378812</td>\n",
              "      <td>1.000000</td>\n",
              "      <td>0.288223</td>\n",
              "      <td>-0.257748</td>\n",
              "      <td>0.115739</td>\n",
              "      <td>0.206754</td>\n",
              "      <td>-0.436757</td>\n",
              "    </tr>\n",
              "    <tr>\n",
              "      <th>oldpeak</th>\n",
              "      <td>0.210013</td>\n",
              "      <td>0.096093</td>\n",
              "      <td>-0.149230</td>\n",
              "      <td>0.193216</td>\n",
              "      <td>0.053952</td>\n",
              "      <td>0.005747</td>\n",
              "      <td>-0.058770</td>\n",
              "      <td>-0.344187</td>\n",
              "      <td>0.288223</td>\n",
              "      <td>1.000000</td>\n",
              "      <td>-0.577537</td>\n",
              "      <td>0.222682</td>\n",
              "      <td>0.210244</td>\n",
              "      <td>-0.430696</td>\n",
              "    </tr>\n",
              "    <tr>\n",
              "      <th>slope</th>\n",
              "      <td>-0.168814</td>\n",
              "      <td>-0.030711</td>\n",
              "      <td>0.119717</td>\n",
              "      <td>-0.121475</td>\n",
              "      <td>-0.004038</td>\n",
              "      <td>-0.059894</td>\n",
              "      <td>0.093045</td>\n",
              "      <td>0.386784</td>\n",
              "      <td>-0.257748</td>\n",
              "      <td>-0.577537</td>\n",
              "      <td>1.000000</td>\n",
              "      <td>-0.080155</td>\n",
              "      <td>-0.104764</td>\n",
              "      <td>0.345877</td>\n",
              "    </tr>\n",
              "    <tr>\n",
              "      <th>ca</th>\n",
              "      <td>0.276326</td>\n",
              "      <td>0.118261</td>\n",
              "      <td>-0.181053</td>\n",
              "      <td>0.101389</td>\n",
              "      <td>0.070511</td>\n",
              "      <td>0.137979</td>\n",
              "      <td>-0.072042</td>\n",
              "      <td>-0.213177</td>\n",
              "      <td>0.115739</td>\n",
              "      <td>0.222682</td>\n",
              "      <td>-0.080155</td>\n",
              "      <td>1.000000</td>\n",
              "      <td>0.151832</td>\n",
              "      <td>-0.391724</td>\n",
              "    </tr>\n",
              "    <tr>\n",
              "      <th>thal</th>\n",
              "      <td>0.068001</td>\n",
              "      <td>0.210041</td>\n",
              "      <td>-0.161736</td>\n",
              "      <td>0.062210</td>\n",
              "      <td>0.098803</td>\n",
              "      <td>-0.032019</td>\n",
              "      <td>-0.011981</td>\n",
              "      <td>-0.096439</td>\n",
              "      <td>0.206754</td>\n",
              "      <td>0.210244</td>\n",
              "      <td>-0.104764</td>\n",
              "      <td>0.151832</td>\n",
              "      <td>1.000000</td>\n",
              "      <td>-0.344029</td>\n",
              "    </tr>\n",
              "    <tr>\n",
              "      <th>target</th>\n",
              "      <td>-0.225439</td>\n",
              "      <td>-0.280937</td>\n",
              "      <td>0.433798</td>\n",
              "      <td>-0.144931</td>\n",
              "      <td>-0.085239</td>\n",
              "      <td>-0.028046</td>\n",
              "      <td>0.137230</td>\n",
              "      <td>0.421741</td>\n",
              "      <td>-0.436757</td>\n",
              "      <td>-0.430696</td>\n",
              "      <td>0.345877</td>\n",
              "      <td>-0.391724</td>\n",
              "      <td>-0.344029</td>\n",
              "      <td>1.000000</td>\n",
              "    </tr>\n",
              "  </tbody>\n",
              "</table>\n",
              "</div>"
            ],
            "text/plain": [
              "               age       sex        cp  ...        ca      thal    target\n",
              "age       1.000000 -0.098447 -0.068653  ...  0.276326  0.068001 -0.225439\n",
              "sex      -0.098447  1.000000 -0.049353  ...  0.118261  0.210041 -0.280937\n",
              "cp       -0.068653 -0.049353  1.000000  ... -0.181053 -0.161736  0.433798\n",
              "trestbps  0.279351 -0.056769  0.047608  ...  0.101389  0.062210 -0.144931\n",
              "chol      0.213678 -0.197912 -0.076904  ...  0.070511  0.098803 -0.085239\n",
              "fbs       0.121308  0.045032  0.094444  ...  0.137979 -0.032019 -0.028046\n",
              "restecg  -0.116211 -0.058196  0.044421  ... -0.072042 -0.011981  0.137230\n",
              "thalach  -0.398522 -0.044020  0.295762  ... -0.213177 -0.096439  0.421741\n",
              "exang     0.096801  0.141664 -0.394280  ...  0.115739  0.206754 -0.436757\n",
              "oldpeak   0.210013  0.096093 -0.149230  ...  0.222682  0.210244 -0.430696\n",
              "slope    -0.168814 -0.030711  0.119717  ... -0.080155 -0.104764  0.345877\n",
              "ca        0.276326  0.118261 -0.181053  ...  1.000000  0.151832 -0.391724\n",
              "thal      0.068001  0.210041 -0.161736  ...  0.151832  1.000000 -0.344029\n",
              "target   -0.225439 -0.280937  0.433798  ... -0.391724 -0.344029  1.000000\n",
              "\n",
              "[14 rows x 14 columns]"
            ]
          },
          "metadata": {
            "tags": []
          },
          "execution_count": 83
        }
      ]
    },
    {
      "cell_type": "code",
      "metadata": {
        "id": "kcuAVzT9I3g1",
        "colab": {
          "base_uri": "https://localhost:8080/",
          "height": 659
        },
        "outputId": "97db7fd3-30e0-4292-ecfd-42e1e328223a"
      },
      "source": [
        "#visualizing this matrix using a heatmap\n",
        "fig,ax=plt.subplots(figsize=(15,10))\n",
        "ax=sns.heatmap(corr_matrix,\n",
        "               annot=True,\n",
        "               linewidths=0.5,\n",
        "               fmt='0.2f',\n",
        "               cmap='YlGnBu')"
      ],
      "execution_count": null,
      "outputs": [
        {
          "output_type": "display_data",
          "data": {
            "image/png": "[encoded data removed]",
            "text/plain": [
              "<Figure size 1080x720 with 2 Axes>"
            ]
          },
          "metadata": {
            "tags": []
          }
        }
      ]
    },
    {
      "cell_type": "markdown",
      "metadata": {
        "id": "M4Hd3b1XMP-v"
      },
      "source": [
        "* *Positive correlation:directly correlated(increase in one feature causes increase in the other).*\n",
        "* *Negative correlation:inversly correlated(increase in one feature causes decrease in the other).*"
      ]
    },
    {
      "cell_type": "markdown",
      "metadata": {
        "id": "4cx9Q5LIM8nr"
      },
      "source": [
        "## **Making predictions using ML Models:**"
      ]
    },
    {
      "cell_type": "code",
      "metadata": {
        "id": "ICKFA58LeWf1"
      },
      "source": [
        "#splitting data into train and test\n",
        "np.random.seed(42) #to get constant results\n",
        "X_train,X_test,y_train,y_test=train_test_split(X,y,test_size=0.2)"
      ],
      "execution_count": null,
      "outputs": []
    },
    {
      "cell_type": "code",
      "metadata": {
        "id": "AxGRlU5EMquL"
      },
      "source": [
        "#models chosen by considering the ML map\n",
        "models={'Logistic Regression':LogisticRegression(),\n",
        "        'KNN':KNeighborsClassifier(),\n",
        "        'Random Forest':RandomForestClassifier()} "
      ],
      "execution_count": null,
      "outputs": []
    },
    {
      "cell_type": "code",
      "metadata": {
        "id": "b5q8KGpfez08"
      },
      "source": [
        "#creating a function to train and evaluate our models\n",
        "model_scores={}\n",
        "def fit_and_eval(models,X_train,X_test,y_train,y_test):\n",
        "  \"\"\"\n",
        "  Function to fit the models in the 'models' dictionary and evaluate them.\n",
        "  This function returns a dictionary of scores of each models.\n",
        "  \"\"\"\n",
        "  np.random.seed(42)\n",
        "  for name,model in models.items():\n",
        "    \"\"\"\n",
        "    name is the key,model is the value in the dictionary 'models'\n",
        "    \"\"\"\n",
        "    model.fit(X_train,y_train)\n",
        "    model_scores[name]=model.score(X_test,y_test)\n",
        "  return model_scores"
      ],
      "execution_count": null,
      "outputs": []
    },
    {
      "cell_type": "code",
      "metadata": {
        "id": "bJHM-M3GxR9N",
        "colab": {
          "base_uri": "https://localhost:8080/"
        },
        "outputId": "5c8589c3-3860-42d5-e7bf-b0bce58adca3"
      },
      "source": [
        "model_scores=fit_and_eval(models,X_train,X_test,y_train,y_test)\n",
        "model_scores"
      ],
      "execution_count": null,
      "outputs": [
        {
          "output_type": "stream",
          "text": [
            "/usr/local/lib/python3.6/dist-packages/sklearn/linear_model/_logistic.py:940: ConvergenceWarning: lbfgs failed to converge (status=1):\n",
            "STOP: TOTAL NO. of ITERATIONS REACHED LIMIT.\n",
            "\n",
            "Increase the number of iterations (max_iter) or scale the data as shown in:\n",
            "    https://scikit-learn.org/stable/modules/preprocessing.html\n",
            "Please also refer to the documentation for alternative solver options:\n",
            "    https://scikit-learn.org/stable/modules/linear_model.html#logistic-regression\n",
            "  extra_warning_msg=_LOGISTIC_SOLVER_CONVERGENCE_MSG)\n"
          ],
          "name": "stderr"
        },
        {
          "output_type": "execute_result",
          "data": {
            "text/plain": [
              "{'KNN': 0.6885245901639344,\n",
              " 'Logistic Regression': 0.8852459016393442,\n",
              " 'Random Forest': 0.8360655737704918}"
            ]
          },
          "metadata": {
            "tags": []
          },
          "execution_count": 88
        }
      ]
    },
    {
      "cell_type": "code",
      "metadata": {
        "id": "QVKaohuSxcZo"
      },
      "source": [
        "#thus without tuning,logistic regression yields the highest accuracy score"
      ],
      "execution_count": null,
      "outputs": []
    },
    {
      "cell_type": "markdown",
      "metadata": {
        "id": "fK9Y7w0J1jKo"
      },
      "source": [
        "Comparison of Models:"
      ]
    },
    {
      "cell_type": "code",
      "metadata": {
        "id": "rUbnrEkBx1Wi",
        "colab": {
          "base_uri": "https://localhost:8080/",
          "height": 433
        },
        "outputId": "e921ee1b-fcc2-498f-d95a-59e1dd0c7a57"
      },
      "source": [
        "model_cmp=pd.DataFrame(model_scores,index=['accuracy']) #index refers to the row label\n",
        "model_cmp.T.plot(kind='bar')"
      ],
      "execution_count": null,
      "outputs": [
        {
          "output_type": "execute_result",
          "data": {
            "text/plain": [
              "<matplotlib.axes._subplots.AxesSubplot at 0x7fe20b431668>"
            ]
          },
          "metadata": {
            "tags": []
          },
          "execution_count": 90
        },
        {
          "output_type": "display_data",
          "data": {
            "image/png": "[encoded data removed]",
            "text/plain": [
              "<Figure size 432x288 with 1 Axes>"
            ]
          },
          "metadata": {
            "tags": []
          }
        }
      ]
    },
    {
      "cell_type": "markdown",
      "metadata": {
        "id": "6DHmCW812qnW"
      },
      "source": [
        "*Thus the logistic regression yields the highest accuracy score of about 88% and random forest still does good with a score of 83%.We would eliminate KNN which has a poor score of 69%.*"
      ]
    },
    {
      "cell_type": "markdown",
      "metadata": {
        "id": "XsMM99E7hfBG"
      },
      "source": [
        "What to do to improve our classification models?\n",
        "  * Hyperparameter Tuning\n",
        "  * Feature importance\n",
        "  * accuracy score\n",
        "  * precision\n",
        "  * recall\n",
        "  * F1 score\n",
        "  * confusion matrix\n",
        "  * classification report\n",
        "  * ROC curve\n",
        "  * Area under the curve(AUC)"
      ]
    },
    {
      "cell_type": "markdown",
      "metadata": {
        "id": "GvqHtOuzjA_b"
      },
      "source": [
        "**Hyperparameter tuning:**"
      ]
    },
    {
      "cell_type": "code",
      "metadata": {
        "id": "1HTXqUtT0_tx"
      },
      "source": [
        "#First start by tuning the KNN model to see if it improves(by Hand):"
      ],
      "execution_count": null,
      "outputs": []
    },
    {
      "cell_type": "code",
      "metadata": {
        "id": "k_POzvmB2ZV6"
      },
      "source": [
        "knn=KNeighborsClassifier()"
      ],
      "execution_count": null,
      "outputs": []
    },
    {
      "cell_type": "code",
      "metadata": {
        "id": "WR5JOlaejqfk",
        "colab": {
          "base_uri": "https://localhost:8080/"
        },
        "outputId": "1159b669-13c9-4cff-b0a6-63f77391b8ed"
      },
      "source": [
        "#trying 1-20 values for k_neighbors hyperparameter\n",
        "neighbors=range(1,21)\n",
        "#create 2 lists for keeping the train and test scores to evaluate the model\n",
        "train_scores=[]\n",
        "test_scores=[]\n",
        "#iterate to update the parameters\n",
        "np.random.seed(42)\n",
        "for i in neighbors:\n",
        "  knn.set_params(n_neighbors=i)\n",
        "  #fit the model with 'i' neighbors\n",
        "  knn.fit(X_train,y_train)\n",
        "  #update the train and test scores\n",
        "  train_scores.append(knn.score(X_train,y_train))\n",
        "  test_scores.append(knn.score(X_test,y_test))\n",
        "print(\"train scores are:\",train_scores)\n",
        "print('test scores are:',test_scores)"
      ],
      "execution_count": null,
      "outputs": [
        {
          "output_type": "stream",
          "text": [
            "train scores are: [1.0, 0.8099173553719008, 0.7727272727272727, 0.743801652892562, 0.7603305785123967, 0.7520661157024794, 0.743801652892562, 0.7231404958677686, 0.71900826446281, 0.6942148760330579, 0.7272727272727273, 0.6983471074380165, 0.6900826446280992, 0.6942148760330579, 0.6859504132231405, 0.6735537190082644, 0.6859504132231405, 0.6652892561983471, 0.6818181818181818, 0.6694214876033058]\n",
            "test scores are: [0.6229508196721312, 0.639344262295082, 0.6557377049180327, 0.6721311475409836, 0.6885245901639344, 0.7213114754098361, 0.7049180327868853, 0.6885245901639344, 0.6885245901639344, 0.7049180327868853, 0.7540983606557377, 0.7377049180327869, 0.7377049180327869, 0.7377049180327869, 0.6885245901639344, 0.7213114754098361, 0.6885245901639344, 0.6885245901639344, 0.7049180327868853, 0.6557377049180327]\n"
          ],
          "name": "stdout"
        }
      ]
    },
    {
      "cell_type": "code",
      "metadata": {
        "id": "oN5q6i49l5hq",
        "colab": {
          "base_uri": "https://localhost:8080/",
          "height": 334
        },
        "outputId": "8f00fdab-deec-486f-ddc6-619d23242213"
      },
      "source": [
        "#visualizing these scores:\n",
        "plt.plot(neighbors,train_scores,label='train score')\n",
        "plt.plot(neighbors,test_scores,label='test score')\n",
        "plt.xlabel('neighbor')\n",
        "plt.ylabel('model scores')\n",
        "plt.legend()\n",
        "plt.title('Evaluation of KNN model')\n",
        "print(\"max test score:\",max(test_scores))\n",
        "plt.xticks(np.arange(1,21,1)); #x axis is from 1-20 incremented by step 1"
      ],
      "execution_count": null,
      "outputs": [
        {
          "output_type": "stream",
          "text": [
            "max test score: 0.7540983606557377\n"
          ],
          "name": "stdout"
        },
        {
          "output_type": "display_data",
          "data": {
            "image/png": "[encoded data removed]",
            "text/plain": [
              "<Figure size 432x288 with 1 Axes>"
            ]
          },
          "metadata": {
            "tags": []
          }
        }
      ]
    },
    {
      "cell_type": "markdown",
      "metadata": {
        "id": "sFY77WhJoVCO"
      },
      "source": [
        "*Thus from the graph,model with 11 neighbors gives the maximum test score of 75%.However its still very less compared to the scores obtained by the other 2 models.Thus now we can start tuning better models.Also,since here we have only one parameter to tune we can use for loop.Else using for loop would make the code very inefficient.*"
      ]
    },
    {
      "cell_type": "markdown",
      "metadata": {
        "id": "qeLx6FUXNv7H"
      },
      "source": [
        "Now we tune Logistic regression and Random forest using randomized search CV:"
      ]
    },
    {
      "cell_type": "code",
      "metadata": {
        "id": "4HhoCHJ6mYpG"
      },
      "source": [
        "#grid for logistic regression:\n",
        "lr_grid={'C':np.logspace(-4,4,20), #logspace returns the numbers evenly placed on a log scale between -4 and 4\n",
        "         'solver':['liblinear']}\n",
        "#grid for random forest:\n",
        "rf_grid={'n_estimators':np.arange(10,1000,50),\n",
        "         'max_depth':[None,3,5,10],\n",
        "         'min_samples_split':np.arange(2,20,2),\n",
        "         'min_samples_leaf':np.arange(1,20,2)}"
      ],
      "execution_count": null,
      "outputs": []
    },
    {
      "cell_type": "code",
      "metadata": {
        "id": "MHBtrZPLTCJV",
        "colab": {
          "base_uri": "https://localhost:8080/"
        },
        "outputId": "bb52c699-d299-4614-c6e0-43b1ac21a7ad"
      },
      "source": [
        "np.random.seed(42)\n",
        "#performing randomized search\n",
        "rs_log_clf=RandomizedSearchCV(LogisticRegression(),\n",
        "                              param_distributions=lr_grid,\n",
        "                              cv=5,\n",
        "                              n_iter=20,\n",
        "                              verbose=2)\n",
        "#fitting this new model\n",
        "rs_log_clf.fit(X_train,y_train)"
      ],
      "execution_count": null,
      "outputs": [
        {
          "output_type": "stream",
          "text": [
            "Fitting 5 folds for each of 20 candidates, totalling 100 fits\n",
            "[CV] solver=liblinear, C=0.0001 ......................................\n",
            "[CV] ....................... solver=liblinear, C=0.0001, total=   0.0s\n",
            "[CV] solver=liblinear, C=0.0001 ......................................\n",
            "[CV] ....................... solver=liblinear, C=0.0001, total=   0.0s\n",
            "[CV] solver=liblinear, C=0.0001 ......................................\n",
            "[CV] ....................... solver=liblinear, C=0.0001, total=   0.0s\n",
            "[CV] solver=liblinear, C=0.0001 ......................................\n",
            "[CV] ....................... solver=liblinear, C=0.0001, total=   0.0s\n",
            "[CV] solver=liblinear, C=0.0001 ......................................\n",
            "[CV] ....................... solver=liblinear, C=0.0001, total=   0.0s\n",
            "[CV] solver=liblinear, C=0.00026366508987303583 ......................\n",
            "[CV] ....... solver=liblinear, C=0.00026366508987303583, total=   0.0s\n",
            "[CV] solver=liblinear, C=0.00026366508987303583 ......................\n",
            "[CV] ....... solver=liblinear, C=0.00026366508987303583, total=   0.0s\n",
            "[CV] solver=liblinear, C=0.00026366508987303583 ......................\n",
            "[CV] ....... solver=liblinear, C=0.00026366508987303583, total=   0.0s\n",
            "[CV] solver=liblinear, C=0.00026366508987303583 ......................\n",
            "[CV] ....... solver=liblinear, C=0.00026366508987303583, total=   0.0s\n",
            "[CV] solver=liblinear, C=0.00026366508987303583 ......................\n",
            "[CV] ....... solver=liblinear, C=0.00026366508987303583, total=   0.0s\n",
            "[CV] solver=liblinear, C=0.0006951927961775605 .......................\n",
            "[CV] ........ solver=liblinear, C=0.0006951927961775605, total=   0.0s\n",
            "[CV] solver=liblinear, C=0.0006951927961775605 .......................\n",
            "[CV] ........ solver=liblinear, C=0.0006951927961775605, total=   0.0s\n",
            "[CV] solver=liblinear, C=0.0006951927961775605 .......................\n",
            "[CV] ........ solver=liblinear, C=0.0006951927961775605, total=   0.0s\n",
            "[CV] solver=liblinear, C=0.0006951927961775605 .......................\n",
            "[CV] ........ solver=liblinear, C=0.0006951927961775605, total=   0.0s\n",
            "[CV] solver=liblinear, C=0.0006951927961775605 .......................\n",
            "[CV] ........ solver=liblinear, C=0.0006951927961775605, total=   0.0s\n",
            "[CV] solver=liblinear, C=0.0018329807108324356 .......................\n",
            "[CV] ........ solver=liblinear, C=0.0018329807108324356, total=   0.0s\n",
            "[CV] solver=liblinear, C=0.0018329807108324356 .......................\n",
            "[CV] ........ solver=liblinear, C=0.0018329807108324356, total=   0.0s\n",
            "[CV] solver=liblinear, C=0.0018329807108324356 .......................\n",
            "[CV] ........ solver=liblinear, C=0.0018329807108324356, total=   0.0s\n",
            "[CV] solver=liblinear, C=0.0018329807108324356 .......................\n",
            "[CV] ........ solver=liblinear, C=0.0018329807108324356, total=   0.0s\n",
            "[CV] solver=liblinear, C=0.0018329807108324356 .......................\n",
            "[CV] ........ solver=liblinear, C=0.0018329807108324356, total=   0.0s\n",
            "[CV] solver=liblinear, C=0.004832930238571752 ........................\n",
            "[CV] ......... solver=liblinear, C=0.004832930238571752, total=   0.0s\n",
            "[CV] solver=liblinear, C=0.004832930238571752 ........................\n",
            "[CV] ......... solver=liblinear, C=0.004832930238571752, total=   0.0s\n",
            "[CV] solver=liblinear, C=0.004832930238571752 ........................\n",
            "[CV] ......... solver=liblinear, C=0.004832930238571752, total=   0.0s\n",
            "[CV] solver=liblinear, C=0.004832930238571752 ........................\n",
            "[CV] ......... solver=liblinear, C=0.004832930238571752, total=   0.0s\n",
            "[CV] solver=liblinear, C=0.004832930238571752 ........................\n",
            "[CV] ......... solver=liblinear, C=0.004832930238571752, total=   0.0s\n",
            "[CV] solver=liblinear, C=0.012742749857031334 ........................\n",
            "[CV] ......... solver=liblinear, C=0.012742749857031334, total=   0.0s\n",
            "[CV] solver=liblinear, C=0.012742749857031334 ........................\n",
            "[CV] ......... solver=liblinear, C=0.012742749857031334, total=   0.0s\n",
            "[CV] solver=liblinear, C=0.012742749857031334 ........................\n",
            "[CV] ......... solver=liblinear, C=0.012742749857031334, total=   0.0s\n",
            "[CV] solver=liblinear, C=0.012742749857031334 ........................\n",
            "[CV] ......... solver=liblinear, C=0.012742749857031334, total=   0.0s\n",
            "[CV] solver=liblinear, C=0.012742749857031334 ........................\n",
            "[CV] ......... solver=liblinear, C=0.012742749857031334, total=   0.0s\n",
            "[CV] solver=liblinear, C=0.03359818286283781 .........................\n",
            "[CV] .......... solver=liblinear, C=0.03359818286283781, total=   0.0s\n",
            "[CV] solver=liblinear, C=0.03359818286283781 .........................\n",
            "[CV] .......... solver=liblinear, C=0.03359818286283781, total=   0.0s\n",
            "[CV] solver=liblinear, C=0.03359818286283781 .........................\n",
            "[CV] .......... solver=liblinear, C=0.03359818286283781, total=   0.0s\n",
            "[CV] solver=liblinear, C=0.03359818286283781 .........................\n",
            "[CV] .......... solver=liblinear, C=0.03359818286283781, total=   0.0s\n",
            "[CV] solver=liblinear, C=0.03359818286283781 .........................\n",
            "[CV] .......... solver=liblinear, C=0.03359818286283781, total=   0.0s\n",
            "[CV] solver=liblinear, C=0.08858667904100823 .........................\n",
            "[CV] .......... solver=liblinear, C=0.08858667904100823, total=   0.0s\n",
            "[CV] solver=liblinear, C=0.08858667904100823 .........................\n",
            "[CV] .......... solver=liblinear, C=0.08858667904100823, total=   0.0s\n",
            "[CV] solver=liblinear, C=0.08858667904100823 .........................\n",
            "[CV] .......... solver=liblinear, C=0.08858667904100823, total=   0.0s\n",
            "[CV] solver=liblinear, C=0.08858667904100823 .........................\n",
            "[CV] .......... solver=liblinear, C=0.08858667904100823, total=   0.0s\n",
            "[CV] solver=liblinear, C=0.08858667904100823 .........................\n",
            "[CV] .......... solver=liblinear, C=0.08858667904100823, total=   0.0s\n",
            "[CV] solver=liblinear, C=0.23357214690901212 .........................\n"
          ],
          "name": "stdout"
        },
        {
          "output_type": "stream",
          "text": [
            "[Parallel(n_jobs=1)]: Using backend SequentialBackend with 1 concurrent workers.\n",
            "[Parallel(n_jobs=1)]: Done   1 out of   1 | elapsed:    0.0s remaining:    0.0s\n"
          ],
          "name": "stderr"
        },
        {
          "output_type": "stream",
          "text": [
            "[CV] .......... solver=liblinear, C=0.23357214690901212, total=   0.0s\n",
            "[CV] solver=liblinear, C=0.23357214690901212 .........................\n",
            "[CV] .......... solver=liblinear, C=0.23357214690901212, total=   0.0s\n",
            "[CV] solver=liblinear, C=0.23357214690901212 .........................\n",
            "[CV] .......... solver=liblinear, C=0.23357214690901212, total=   0.0s\n",
            "[CV] solver=liblinear, C=0.23357214690901212 .........................\n",
            "[CV] .......... solver=liblinear, C=0.23357214690901212, total=   0.0s\n",
            "[CV] solver=liblinear, C=0.23357214690901212 .........................\n",
            "[CV] .......... solver=liblinear, C=0.23357214690901212, total=   0.0s\n",
            "[CV] solver=liblinear, C=0.615848211066026 ...........................\n",
            "[CV] ............ solver=liblinear, C=0.615848211066026, total=   0.0s\n",
            "[CV] solver=liblinear, C=0.615848211066026 ...........................\n",
            "[CV] ............ solver=liblinear, C=0.615848211066026, total=   0.0s\n",
            "[CV] solver=liblinear, C=0.615848211066026 ...........................\n",
            "[CV] ............ solver=liblinear, C=0.615848211066026, total=   0.0s\n",
            "[CV] solver=liblinear, C=0.615848211066026 ...........................\n",
            "[CV] ............ solver=liblinear, C=0.615848211066026, total=   0.0s\n",
            "[CV] solver=liblinear, C=0.615848211066026 ...........................\n",
            "[CV] ............ solver=liblinear, C=0.615848211066026, total=   0.0s\n",
            "[CV] solver=liblinear, C=1.623776739188721 ...........................\n",
            "[CV] ............ solver=liblinear, C=1.623776739188721, total=   0.0s\n",
            "[CV] solver=liblinear, C=1.623776739188721 ...........................\n",
            "[CV] ............ solver=liblinear, C=1.623776739188721, total=   0.0s\n",
            "[CV] solver=liblinear, C=1.623776739188721 ...........................\n",
            "[CV] ............ solver=liblinear, C=1.623776739188721, total=   0.0s\n",
            "[CV] solver=liblinear, C=1.623776739188721 ...........................\n",
            "[CV] ............ solver=liblinear, C=1.623776739188721, total=   0.0s\n",
            "[CV] solver=liblinear, C=1.623776739188721 ...........................\n",
            "[CV] ............ solver=liblinear, C=1.623776739188721, total=   0.0s\n",
            "[CV] solver=liblinear, C=4.281332398719396 ...........................\n",
            "[CV] ............ solver=liblinear, C=4.281332398719396, total=   0.0s\n",
            "[CV] solver=liblinear, C=4.281332398719396 ...........................\n",
            "[CV] ............ solver=liblinear, C=4.281332398719396, total=   0.0s\n",
            "[CV] solver=liblinear, C=4.281332398719396 ...........................\n",
            "[CV] ............ solver=liblinear, C=4.281332398719396, total=   0.0s\n",
            "[CV] solver=liblinear, C=4.281332398719396 ...........................\n",
            "[CV] ............ solver=liblinear, C=4.281332398719396, total=   0.0s\n",
            "[CV] solver=liblinear, C=4.281332398719396 ...........................\n",
            "[CV] ............ solver=liblinear, C=4.281332398719396, total=   0.0s\n",
            "[CV] solver=liblinear, C=11.288378916846883 ..........................\n",
            "[CV] ........... solver=liblinear, C=11.288378916846883, total=   0.0s\n",
            "[CV] solver=liblinear, C=11.288378916846883 ..........................\n",
            "[CV] ........... solver=liblinear, C=11.288378916846883, total=   0.0s\n",
            "[CV] solver=liblinear, C=11.288378916846883 ..........................\n",
            "[CV] ........... solver=liblinear, C=11.288378916846883, total=   0.0s\n",
            "[CV] solver=liblinear, C=11.288378916846883 ..........................\n",
            "[CV] ........... solver=liblinear, C=11.288378916846883, total=   0.0s\n",
            "[CV] solver=liblinear, C=11.288378916846883 ..........................\n",
            "[CV] ........... solver=liblinear, C=11.288378916846883, total=   0.0s\n",
            "[CV] solver=liblinear, C=29.763514416313132 ..........................\n",
            "[CV] ........... solver=liblinear, C=29.763514416313132, total=   0.0s\n",
            "[CV] solver=liblinear, C=29.763514416313132 ..........................\n",
            "[CV] ........... solver=liblinear, C=29.763514416313132, total=   0.0s\n",
            "[CV] solver=liblinear, C=29.763514416313132 ..........................\n",
            "[CV] ........... solver=liblinear, C=29.763514416313132, total=   0.0s\n",
            "[CV] solver=liblinear, C=29.763514416313132 ..........................\n",
            "[CV] ........... solver=liblinear, C=29.763514416313132, total=   0.0s\n",
            "[CV] solver=liblinear, C=29.763514416313132 ..........................\n",
            "[CV] ........... solver=liblinear, C=29.763514416313132, total=   0.0s\n",
            "[CV] solver=liblinear, C=78.47599703514607 ...........................\n",
            "[CV] ............ solver=liblinear, C=78.47599703514607, total=   0.0s\n",
            "[CV] solver=liblinear, C=78.47599703514607 ...........................\n",
            "[CV] ............ solver=liblinear, C=78.47599703514607, total=   0.0s\n",
            "[CV] solver=liblinear, C=78.47599703514607 ...........................\n",
            "[CV] ............ solver=liblinear, C=78.47599703514607, total=   0.0s\n",
            "[CV] solver=liblinear, C=78.47599703514607 ...........................\n",
            "[CV] ............ solver=liblinear, C=78.47599703514607, total=   0.0s\n",
            "[CV] solver=liblinear, C=78.47599703514607 ...........................\n",
            "[CV] ............ solver=liblinear, C=78.47599703514607, total=   0.0s\n",
            "[CV] solver=liblinear, C=206.913808111479 ............................\n",
            "[CV] ............. solver=liblinear, C=206.913808111479, total=   0.0s\n",
            "[CV] solver=liblinear, C=206.913808111479 ............................\n",
            "[CV] ............. solver=liblinear, C=206.913808111479, total=   0.0s\n",
            "[CV] solver=liblinear, C=206.913808111479 ............................\n",
            "[CV] ............. solver=liblinear, C=206.913808111479, total=   0.0s\n",
            "[CV] solver=liblinear, C=206.913808111479 ............................\n",
            "[CV] ............. solver=liblinear, C=206.913808111479, total=   0.0s\n",
            "[CV] solver=liblinear, C=206.913808111479 ............................\n",
            "[CV] ............. solver=liblinear, C=206.913808111479, total=   0.0s\n",
            "[CV] solver=liblinear, C=545.5594781168514 ...........................\n",
            "[CV] ............ solver=liblinear, C=545.5594781168514, total=   0.0s\n",
            "[CV] solver=liblinear, C=545.5594781168514 ...........................\n",
            "[CV] ............ solver=liblinear, C=545.5594781168514, total=   0.0s\n",
            "[CV] solver=liblinear, C=545.5594781168514 ...........................\n",
            "[CV] ............ solver=liblinear, C=545.5594781168514, total=   0.0s\n",
            "[CV] solver=liblinear, C=545.5594781168514 ...........................\n",
            "[CV] ............ solver=liblinear, C=545.5594781168514, total=   0.0s\n",
            "[CV] solver=liblinear, C=545.5594781168514 ...........................\n",
            "[CV] ............ solver=liblinear, C=545.5594781168514, total=   0.0s\n",
            "[CV] solver=liblinear, C=1438.44988828766 ............................\n",
            "[CV] ............. solver=liblinear, C=1438.44988828766, total=   0.0s\n",
            "[CV] solver=liblinear, C=1438.44988828766 ............................\n",
            "[CV] ............. solver=liblinear, C=1438.44988828766, total=   0.0s\n",
            "[CV] solver=liblinear, C=1438.44988828766 ............................\n",
            "[CV] ............. solver=liblinear, C=1438.44988828766, total=   0.0s\n",
            "[CV] solver=liblinear, C=1438.44988828766 ............................\n",
            "[CV] ............. solver=liblinear, C=1438.44988828766, total=   0.0s\n",
            "[CV] solver=liblinear, C=1438.44988828766 ............................\n",
            "[CV] ............. solver=liblinear, C=1438.44988828766, total=   0.0s\n",
            "[CV] solver=liblinear, C=3792.690190732246 ...........................\n",
            "[CV] ............ solver=liblinear, C=3792.690190732246, total=   0.0s\n",
            "[CV] solver=liblinear, C=3792.690190732246 ...........................\n",
            "[CV] ............ solver=liblinear, C=3792.690190732246, total=   0.0s\n",
            "[CV] solver=liblinear, C=3792.690190732246 ...........................\n",
            "[CV] ............ solver=liblinear, C=3792.690190732246, total=   0.0s\n",
            "[CV] solver=liblinear, C=3792.690190732246 ...........................\n",
            "[CV] ............ solver=liblinear, C=3792.690190732246, total=   0.0s\n",
            "[CV] solver=liblinear, C=3792.690190732246 ...........................\n",
            "[CV] ............ solver=liblinear, C=3792.690190732246, total=   0.0s\n",
            "[CV] solver=liblinear, C=10000.0 .....................................\n",
            "[CV] ...................... solver=liblinear, C=10000.0, total=   0.0s\n",
            "[CV] solver=liblinear, C=10000.0 .....................................\n",
            "[CV] ...................... solver=liblinear, C=10000.0, total=   0.0s\n",
            "[CV] solver=liblinear, C=10000.0 .....................................\n",
            "[CV] ...................... solver=liblinear, C=10000.0, total=   0.0s\n",
            "[CV] solver=liblinear, C=10000.0 .....................................\n",
            "[CV] ...................... solver=liblinear, C=10000.0, total=   0.0s\n",
            "[CV] solver=liblinear, C=10000.0 .....................................\n",
            "[CV] ...................... solver=liblinear, C=10000.0, total=   0.0s\n"
          ],
          "name": "stdout"
        },
        {
          "output_type": "stream",
          "text": [
            "[Parallel(n_jobs=1)]: Done 100 out of 100 | elapsed:    0.5s finished\n"
          ],
          "name": "stderr"
        },
        {
          "output_type": "execute_result",
          "data": {
            "text/plain": [
              "RandomizedSearchCV(cv=5, error_score=nan,\n",
              "                   estimator=LogisticRegression(C=1.0, class_weight=None,\n",
              "                                                dual=False, fit_intercept=True,\n",
              "                                                intercept_scaling=1,\n",
              "                                                l1_ratio=None, max_iter=100,\n",
              "                                                multi_class='auto', n_jobs=None,\n",
              "                                                penalty='l2', random_state=None,\n",
              "                                                solver='lbfgs', tol=0.0001,\n",
              "                                                verbose=0, warm_start=False),\n",
              "                   iid='deprecated', n_iter=20, n_jobs=None,\n",
              "                   param_distributions={'C':...\n",
              "       4.83293024e-03, 1.27427499e-02, 3.35981829e-02, 8.85866790e-02,\n",
              "       2.33572147e-01, 6.15848211e-01, 1.62377674e+00, 4.28133240e+00,\n",
              "       1.12883789e+01, 2.97635144e+01, 7.84759970e+01, 2.06913808e+02,\n",
              "       5.45559478e+02, 1.43844989e+03, 3.79269019e+03, 1.00000000e+04]),\n",
              "                                        'solver': ['liblinear']},\n",
              "                   pre_dispatch='2*n_jobs', random_state=None, refit=True,\n",
              "                   return_train_score=False, scoring=None, verbose=2)"
            ]
          },
          "metadata": {
            "tags": []
          },
          "execution_count": 96
        }
      ]
    },
    {
      "cell_type": "code",
      "metadata": {
        "id": "Yu_EwtRATG-k",
        "colab": {
          "base_uri": "https://localhost:8080/"
        },
        "outputId": "d0526d60-5d42-4fba-b84d-73d791080b55"
      },
      "source": [
        "#check the best parameters selected after performing randomizedSearchCV\n",
        "rs_log_clf.best_params_"
      ],
      "execution_count": null,
      "outputs": [
        {
          "output_type": "execute_result",
          "data": {
            "text/plain": [
              "{'C': 0.23357214690901212, 'solver': 'liblinear'}"
            ]
          },
          "metadata": {
            "tags": []
          },
          "execution_count": 97
        }
      ]
    },
    {
      "cell_type": "code",
      "metadata": {
        "id": "bSDekOiQZxM4",
        "colab": {
          "base_uri": "https://localhost:8080/"
        },
        "outputId": "c6a7a265-9eef-41c0-b989-5c798b3da28d"
      },
      "source": [
        "rs_log_clf.score(X_test,y_test)"
      ],
      "execution_count": null,
      "outputs": [
        {
          "output_type": "execute_result",
          "data": {
            "text/plain": [
              "0.8852459016393442"
            ]
          },
          "metadata": {
            "tags": []
          },
          "execution_count": 98
        }
      ]
    },
    {
      "cell_type": "markdown",
      "metadata": {
        "id": "vDipl3H-bvl8"
      },
      "source": [
        "Here,we get the same score as the baseline model even after tuning.Thus now we can look for Random Forest tuning."
      ]
    },
    {
      "cell_type": "code",
      "metadata": {
        "id": "USx16MvrZ2Rm",
        "colab": {
          "base_uri": "https://localhost:8080/"
        },
        "outputId": "136f06a3-6ea6-4f55-a03a-45780172874a"
      },
      "source": [
        "np.random.seed(42)\n",
        "#Run randomised search for random forest\n",
        "rs_rf_clf=RandomizedSearchCV(RandomForestClassifier(),\n",
        "                             param_distributions=rf_grid,\n",
        "                             cv=5,\n",
        "                             n_iter=20,\n",
        "                             verbose=2)\n",
        "#fit this new model to the training set\n",
        "rs_rf_clf.fit(X_train,y_train)\n",
        "                          "
      ],
      "execution_count": null,
      "outputs": [
        {
          "output_type": "stream",
          "text": [
            "Fitting 5 folds for each of 20 candidates, totalling 100 fits\n",
            "[CV] n_estimators=10, min_samples_split=16, min_samples_leaf=9, max_depth=None \n",
            "[CV]  n_estimators=10, min_samples_split=16, min_samples_leaf=9, max_depth=None, total=   0.0s\n",
            "[CV] n_estimators=10, min_samples_split=16, min_samples_leaf=9, max_depth=None \n"
          ],
          "name": "stdout"
        },
        {
          "output_type": "stream",
          "text": [
            "[Parallel(n_jobs=1)]: Using backend SequentialBackend with 1 concurrent workers.\n",
            "[Parallel(n_jobs=1)]: Done   1 out of   1 | elapsed:    0.0s remaining:    0.0s\n"
          ],
          "name": "stderr"
        },
        {
          "output_type": "stream",
          "text": [
            "[CV]  n_estimators=10, min_samples_split=16, min_samples_leaf=9, max_depth=None, total=   0.0s\n",
            "[CV] n_estimators=10, min_samples_split=16, min_samples_leaf=9, max_depth=None \n",
            "[CV]  n_estimators=10, min_samples_split=16, min_samples_leaf=9, max_depth=None, total=   0.0s\n",
            "[CV] n_estimators=10, min_samples_split=16, min_samples_leaf=9, max_depth=None \n",
            "[CV]  n_estimators=10, min_samples_split=16, min_samples_leaf=9, max_depth=None, total=   0.0s\n",
            "[CV] n_estimators=10, min_samples_split=16, min_samples_leaf=9, max_depth=None \n",
            "[CV]  n_estimators=10, min_samples_split=16, min_samples_leaf=9, max_depth=None, total=   0.0s\n",
            "[CV] n_estimators=510, min_samples_split=18, min_samples_leaf=19, max_depth=5 \n",
            "[CV]  n_estimators=510, min_samples_split=18, min_samples_leaf=19, max_depth=5, total=   0.7s\n",
            "[CV] n_estimators=510, min_samples_split=18, min_samples_leaf=19, max_depth=5 \n",
            "[CV]  n_estimators=510, min_samples_split=18, min_samples_leaf=19, max_depth=5, total=   0.7s\n",
            "[CV] n_estimators=510, min_samples_split=18, min_samples_leaf=19, max_depth=5 \n",
            "[CV]  n_estimators=510, min_samples_split=18, min_samples_leaf=19, max_depth=5, total=   0.7s\n",
            "[CV] n_estimators=510, min_samples_split=18, min_samples_leaf=19, max_depth=5 \n",
            "[CV]  n_estimators=510, min_samples_split=18, min_samples_leaf=19, max_depth=5, total=   0.7s\n",
            "[CV] n_estimators=510, min_samples_split=18, min_samples_leaf=19, max_depth=5 \n",
            "[CV]  n_estimators=510, min_samples_split=18, min_samples_leaf=19, max_depth=5, total=   0.7s\n",
            "[CV] n_estimators=310, min_samples_split=2, min_samples_leaf=19, max_depth=5 \n",
            "[CV]  n_estimators=310, min_samples_split=2, min_samples_leaf=19, max_depth=5, total=   0.4s\n",
            "[CV] n_estimators=310, min_samples_split=2, min_samples_leaf=19, max_depth=5 \n",
            "[CV]  n_estimators=310, min_samples_split=2, min_samples_leaf=19, max_depth=5, total=   0.4s\n",
            "[CV] n_estimators=310, min_samples_split=2, min_samples_leaf=19, max_depth=5 \n",
            "[CV]  n_estimators=310, min_samples_split=2, min_samples_leaf=19, max_depth=5, total=   0.4s\n",
            "[CV] n_estimators=310, min_samples_split=2, min_samples_leaf=19, max_depth=5 \n",
            "[CV]  n_estimators=310, min_samples_split=2, min_samples_leaf=19, max_depth=5, total=   0.4s\n",
            "[CV] n_estimators=310, min_samples_split=2, min_samples_leaf=19, max_depth=5 \n",
            "[CV]  n_estimators=310, min_samples_split=2, min_samples_leaf=19, max_depth=5, total=   0.4s\n",
            "[CV] n_estimators=560, min_samples_split=16, min_samples_leaf=17, max_depth=5 \n",
            "[CV]  n_estimators=560, min_samples_split=16, min_samples_leaf=17, max_depth=5, total=   0.7s\n",
            "[CV] n_estimators=560, min_samples_split=16, min_samples_leaf=17, max_depth=5 \n",
            "[CV]  n_estimators=560, min_samples_split=16, min_samples_leaf=17, max_depth=5, total=   0.7s\n",
            "[CV] n_estimators=560, min_samples_split=16, min_samples_leaf=17, max_depth=5 \n",
            "[CV]  n_estimators=560, min_samples_split=16, min_samples_leaf=17, max_depth=5, total=   0.7s\n",
            "[CV] n_estimators=560, min_samples_split=16, min_samples_leaf=17, max_depth=5 \n",
            "[CV]  n_estimators=560, min_samples_split=16, min_samples_leaf=17, max_depth=5, total=   0.7s\n",
            "[CV] n_estimators=560, min_samples_split=16, min_samples_leaf=17, max_depth=5 \n",
            "[CV]  n_estimators=560, min_samples_split=16, min_samples_leaf=17, max_depth=5, total=   0.7s\n",
            "[CV] n_estimators=610, min_samples_split=18, min_samples_leaf=1, max_depth=5 \n",
            "[CV]  n_estimators=610, min_samples_split=18, min_samples_leaf=1, max_depth=5, total=   0.8s\n",
            "[CV] n_estimators=610, min_samples_split=18, min_samples_leaf=1, max_depth=5 \n",
            "[CV]  n_estimators=610, min_samples_split=18, min_samples_leaf=1, max_depth=5, total=   0.8s\n",
            "[CV] n_estimators=610, min_samples_split=18, min_samples_leaf=1, max_depth=5 \n",
            "[CV]  n_estimators=610, min_samples_split=18, min_samples_leaf=1, max_depth=5, total=   0.8s\n",
            "[CV] n_estimators=610, min_samples_split=18, min_samples_leaf=1, max_depth=5 \n",
            "[CV]  n_estimators=610, min_samples_split=18, min_samples_leaf=1, max_depth=5, total=   0.8s\n",
            "[CV] n_estimators=610, min_samples_split=18, min_samples_leaf=1, max_depth=5 \n",
            "[CV]  n_estimators=610, min_samples_split=18, min_samples_leaf=1, max_depth=5, total=   0.8s\n",
            "[CV] n_estimators=610, min_samples_split=4, min_samples_leaf=15, max_depth=3 \n",
            "[CV]  n_estimators=610, min_samples_split=4, min_samples_leaf=15, max_depth=3, total=   0.8s\n",
            "[CV] n_estimators=610, min_samples_split=4, min_samples_leaf=15, max_depth=3 \n",
            "[CV]  n_estimators=610, min_samples_split=4, min_samples_leaf=15, max_depth=3, total=   0.8s\n",
            "[CV] n_estimators=610, min_samples_split=4, min_samples_leaf=15, max_depth=3 \n",
            "[CV]  n_estimators=610, min_samples_split=4, min_samples_leaf=15, max_depth=3, total=   0.8s\n",
            "[CV] n_estimators=610, min_samples_split=4, min_samples_leaf=15, max_depth=3 \n",
            "[CV]  n_estimators=610, min_samples_split=4, min_samples_leaf=15, max_depth=3, total=   0.8s\n",
            "[CV] n_estimators=610, min_samples_split=4, min_samples_leaf=15, max_depth=3 \n",
            "[CV]  n_estimators=610, min_samples_split=4, min_samples_leaf=15, max_depth=3, total=   0.8s\n",
            "[CV] n_estimators=710, min_samples_split=16, min_samples_leaf=3, max_depth=10 \n",
            "[CV]  n_estimators=710, min_samples_split=16, min_samples_leaf=3, max_depth=10, total=   0.9s\n",
            "[CV] n_estimators=710, min_samples_split=16, min_samples_leaf=3, max_depth=10 \n",
            "[CV]  n_estimators=710, min_samples_split=16, min_samples_leaf=3, max_depth=10, total=   0.9s\n",
            "[CV] n_estimators=710, min_samples_split=16, min_samples_leaf=3, max_depth=10 \n",
            "[CV]  n_estimators=710, min_samples_split=16, min_samples_leaf=3, max_depth=10, total=   0.9s\n",
            "[CV] n_estimators=710, min_samples_split=16, min_samples_leaf=3, max_depth=10 \n",
            "[CV]  n_estimators=710, min_samples_split=16, min_samples_leaf=3, max_depth=10, total=   0.9s\n",
            "[CV] n_estimators=710, min_samples_split=16, min_samples_leaf=3, max_depth=10 \n",
            "[CV]  n_estimators=710, min_samples_split=16, min_samples_leaf=3, max_depth=10, total=   1.0s\n",
            "[CV] n_estimators=260, min_samples_split=16, min_samples_leaf=9, max_depth=10 \n",
            "[CV]  n_estimators=260, min_samples_split=16, min_samples_leaf=9, max_depth=10, total=   0.4s\n",
            "[CV] n_estimators=260, min_samples_split=16, min_samples_leaf=9, max_depth=10 \n",
            "[CV]  n_estimators=260, min_samples_split=16, min_samples_leaf=9, max_depth=10, total=   0.3s\n",
            "[CV] n_estimators=260, min_samples_split=16, min_samples_leaf=9, max_depth=10 \n",
            "[CV]  n_estimators=260, min_samples_split=16, min_samples_leaf=9, max_depth=10, total=   0.3s\n",
            "[CV] n_estimators=260, min_samples_split=16, min_samples_leaf=9, max_depth=10 \n",
            "[CV]  n_estimators=260, min_samples_split=16, min_samples_leaf=9, max_depth=10, total=   0.4s\n",
            "[CV] n_estimators=260, min_samples_split=16, min_samples_leaf=9, max_depth=10 \n",
            "[CV]  n_estimators=260, min_samples_split=16, min_samples_leaf=9, max_depth=10, total=   0.3s\n",
            "[CV] n_estimators=310, min_samples_split=12, min_samples_leaf=5, max_depth=None \n",
            "[CV]  n_estimators=310, min_samples_split=12, min_samples_leaf=5, max_depth=None, total=   0.4s\n",
            "[CV] n_estimators=310, min_samples_split=12, min_samples_leaf=5, max_depth=None \n",
            "[CV]  n_estimators=310, min_samples_split=12, min_samples_leaf=5, max_depth=None, total=   0.4s\n",
            "[CV] n_estimators=310, min_samples_split=12, min_samples_leaf=5, max_depth=None \n",
            "[CV]  n_estimators=310, min_samples_split=12, min_samples_leaf=5, max_depth=None, total=   0.4s\n",
            "[CV] n_estimators=310, min_samples_split=12, min_samples_leaf=5, max_depth=None \n",
            "[CV]  n_estimators=310, min_samples_split=12, min_samples_leaf=5, max_depth=None, total=   0.4s\n",
            "[CV] n_estimators=310, min_samples_split=12, min_samples_leaf=5, max_depth=None \n",
            "[CV]  n_estimators=310, min_samples_split=12, min_samples_leaf=5, max_depth=None, total=   0.4s\n",
            "[CV] n_estimators=710, min_samples_split=12, min_samples_leaf=19, max_depth=5 \n",
            "[CV]  n_estimators=710, min_samples_split=12, min_samples_leaf=19, max_depth=5, total=   0.9s\n",
            "[CV] n_estimators=710, min_samples_split=12, min_samples_leaf=19, max_depth=5 \n",
            "[CV]  n_estimators=710, min_samples_split=12, min_samples_leaf=19, max_depth=5, total=   0.9s\n",
            "[CV] n_estimators=710, min_samples_split=12, min_samples_leaf=19, max_depth=5 \n",
            "[CV]  n_estimators=710, min_samples_split=12, min_samples_leaf=19, max_depth=5, total=   0.9s\n",
            "[CV] n_estimators=710, min_samples_split=12, min_samples_leaf=19, max_depth=5 \n",
            "[CV]  n_estimators=710, min_samples_split=12, min_samples_leaf=19, max_depth=5, total=   1.0s\n",
            "[CV] n_estimators=710, min_samples_split=12, min_samples_leaf=19, max_depth=5 \n",
            "[CV]  n_estimators=710, min_samples_split=12, min_samples_leaf=19, max_depth=5, total=   0.9s\n",
            "[CV] n_estimators=310, min_samples_split=12, min_samples_leaf=9, max_depth=5 \n",
            "[CV]  n_estimators=310, min_samples_split=12, min_samples_leaf=9, max_depth=5, total=   0.4s\n",
            "[CV] n_estimators=310, min_samples_split=12, min_samples_leaf=9, max_depth=5 \n",
            "[CV]  n_estimators=310, min_samples_split=12, min_samples_leaf=9, max_depth=5, total=   0.4s\n",
            "[CV] n_estimators=310, min_samples_split=12, min_samples_leaf=9, max_depth=5 \n",
            "[CV]  n_estimators=310, min_samples_split=12, min_samples_leaf=9, max_depth=5, total=   0.4s\n",
            "[CV] n_estimators=310, min_samples_split=12, min_samples_leaf=9, max_depth=5 \n",
            "[CV]  n_estimators=310, min_samples_split=12, min_samples_leaf=9, max_depth=5, total=   0.4s\n",
            "[CV] n_estimators=310, min_samples_split=12, min_samples_leaf=9, max_depth=5 \n",
            "[CV]  n_estimators=310, min_samples_split=12, min_samples_leaf=9, max_depth=5, total=   0.4s\n",
            "[CV] n_estimators=910, min_samples_split=18, min_samples_leaf=1, max_depth=10 \n",
            "[CV]  n_estimators=910, min_samples_split=18, min_samples_leaf=1, max_depth=10, total=   1.2s\n",
            "[CV] n_estimators=910, min_samples_split=18, min_samples_leaf=1, max_depth=10 \n",
            "[CV]  n_estimators=910, min_samples_split=18, min_samples_leaf=1, max_depth=10, total=   1.2s\n",
            "[CV] n_estimators=910, min_samples_split=18, min_samples_leaf=1, max_depth=10 \n",
            "[CV]  n_estimators=910, min_samples_split=18, min_samples_leaf=1, max_depth=10, total=   1.2s\n",
            "[CV] n_estimators=910, min_samples_split=18, min_samples_leaf=1, max_depth=10 \n",
            "[CV]  n_estimators=910, min_samples_split=18, min_samples_leaf=1, max_depth=10, total=   1.2s\n",
            "[CV] n_estimators=910, min_samples_split=18, min_samples_leaf=1, max_depth=10 \n",
            "[CV]  n_estimators=910, min_samples_split=18, min_samples_leaf=1, max_depth=10, total=   1.2s\n",
            "[CV] n_estimators=560, min_samples_split=12, min_samples_leaf=9, max_depth=10 \n",
            "[CV]  n_estimators=560, min_samples_split=12, min_samples_leaf=9, max_depth=10, total=   0.7s\n",
            "[CV] n_estimators=560, min_samples_split=12, min_samples_leaf=9, max_depth=10 \n",
            "[CV]  n_estimators=560, min_samples_split=12, min_samples_leaf=9, max_depth=10, total=   0.7s\n",
            "[CV] n_estimators=560, min_samples_split=12, min_samples_leaf=9, max_depth=10 \n",
            "[CV]  n_estimators=560, min_samples_split=12, min_samples_leaf=9, max_depth=10, total=   0.7s\n",
            "[CV] n_estimators=560, min_samples_split=12, min_samples_leaf=9, max_depth=10 \n",
            "[CV]  n_estimators=560, min_samples_split=12, min_samples_leaf=9, max_depth=10, total=   0.7s\n",
            "[CV] n_estimators=560, min_samples_split=12, min_samples_leaf=9, max_depth=10 \n",
            "[CV]  n_estimators=560, min_samples_split=12, min_samples_leaf=9, max_depth=10, total=   0.7s\n",
            "[CV] n_estimators=210, min_samples_split=4, min_samples_leaf=19, max_depth=3 \n",
            "[CV]  n_estimators=210, min_samples_split=4, min_samples_leaf=19, max_depth=3, total=   0.3s\n",
            "[CV] n_estimators=210, min_samples_split=4, min_samples_leaf=19, max_depth=3 \n",
            "[CV]  n_estimators=210, min_samples_split=4, min_samples_leaf=19, max_depth=3, total=   0.3s\n",
            "[CV] n_estimators=210, min_samples_split=4, min_samples_leaf=19, max_depth=3 \n",
            "[CV]  n_estimators=210, min_samples_split=4, min_samples_leaf=19, max_depth=3, total=   0.3s\n",
            "[CV] n_estimators=210, min_samples_split=4, min_samples_leaf=19, max_depth=3 \n",
            "[CV]  n_estimators=210, min_samples_split=4, min_samples_leaf=19, max_depth=3, total=   0.3s\n",
            "[CV] n_estimators=210, min_samples_split=4, min_samples_leaf=19, max_depth=3 \n",
            "[CV]  n_estimators=210, min_samples_split=4, min_samples_leaf=19, max_depth=3, total=   0.3s\n",
            "[CV] n_estimators=560, min_samples_split=12, min_samples_leaf=15, max_depth=3 \n",
            "[CV]  n_estimators=560, min_samples_split=12, min_samples_leaf=15, max_depth=3, total=   0.7s\n",
            "[CV] n_estimators=560, min_samples_split=12, min_samples_leaf=15, max_depth=3 \n",
            "[CV]  n_estimators=560, min_samples_split=12, min_samples_leaf=15, max_depth=3, total=   0.7s\n",
            "[CV] n_estimators=560, min_samples_split=12, min_samples_leaf=15, max_depth=3 \n",
            "[CV]  n_estimators=560, min_samples_split=12, min_samples_leaf=15, max_depth=3, total=   0.7s\n",
            "[CV] n_estimators=560, min_samples_split=12, min_samples_leaf=15, max_depth=3 \n",
            "[CV]  n_estimators=560, min_samples_split=12, min_samples_leaf=15, max_depth=3, total=   0.7s\n",
            "[CV] n_estimators=560, min_samples_split=12, min_samples_leaf=15, max_depth=3 \n",
            "[CV]  n_estimators=560, min_samples_split=12, min_samples_leaf=15, max_depth=3, total=   0.7s\n",
            "[CV] n_estimators=960, min_samples_split=4, min_samples_leaf=13, max_depth=3 \n",
            "[CV]  n_estimators=960, min_samples_split=4, min_samples_leaf=13, max_depth=3, total=   1.2s\n",
            "[CV] n_estimators=960, min_samples_split=4, min_samples_leaf=13, max_depth=3 \n",
            "[CV]  n_estimators=960, min_samples_split=4, min_samples_leaf=13, max_depth=3, total=   1.2s\n",
            "[CV] n_estimators=960, min_samples_split=4, min_samples_leaf=13, max_depth=3 \n",
            "[CV]  n_estimators=960, min_samples_split=4, min_samples_leaf=13, max_depth=3, total=   1.2s\n",
            "[CV] n_estimators=960, min_samples_split=4, min_samples_leaf=13, max_depth=3 \n",
            "[CV]  n_estimators=960, min_samples_split=4, min_samples_leaf=13, max_depth=3, total=   1.2s\n",
            "[CV] n_estimators=960, min_samples_split=4, min_samples_leaf=13, max_depth=3 \n",
            "[CV]  n_estimators=960, min_samples_split=4, min_samples_leaf=13, max_depth=3, total=   1.3s\n",
            "[CV] n_estimators=510, min_samples_split=14, min_samples_leaf=1, max_depth=None \n",
            "[CV]  n_estimators=510, min_samples_split=14, min_samples_leaf=1, max_depth=None, total=   0.7s\n",
            "[CV] n_estimators=510, min_samples_split=14, min_samples_leaf=1, max_depth=None \n",
            "[CV]  n_estimators=510, min_samples_split=14, min_samples_leaf=1, max_depth=None, total=   0.7s\n",
            "[CV] n_estimators=510, min_samples_split=14, min_samples_leaf=1, max_depth=None \n",
            "[CV]  n_estimators=510, min_samples_split=14, min_samples_leaf=1, max_depth=None, total=   0.7s\n",
            "[CV] n_estimators=510, min_samples_split=14, min_samples_leaf=1, max_depth=None \n",
            "[CV]  n_estimators=510, min_samples_split=14, min_samples_leaf=1, max_depth=None, total=   0.7s\n",
            "[CV] n_estimators=510, min_samples_split=14, min_samples_leaf=1, max_depth=None \n",
            "[CV]  n_estimators=510, min_samples_split=14, min_samples_leaf=1, max_depth=None, total=   0.7s\n",
            "[CV] n_estimators=260, min_samples_split=8, min_samples_leaf=19, max_depth=None \n",
            "[CV]  n_estimators=260, min_samples_split=8, min_samples_leaf=19, max_depth=None, total=   0.3s\n",
            "[CV] n_estimators=260, min_samples_split=8, min_samples_leaf=19, max_depth=None \n",
            "[CV]  n_estimators=260, min_samples_split=8, min_samples_leaf=19, max_depth=None, total=   0.4s\n",
            "[CV] n_estimators=260, min_samples_split=8, min_samples_leaf=19, max_depth=None \n",
            "[CV]  n_estimators=260, min_samples_split=8, min_samples_leaf=19, max_depth=None, total=   0.3s\n",
            "[CV] n_estimators=260, min_samples_split=8, min_samples_leaf=19, max_depth=None \n",
            "[CV]  n_estimators=260, min_samples_split=8, min_samples_leaf=19, max_depth=None, total=   0.3s\n",
            "[CV] n_estimators=260, min_samples_split=8, min_samples_leaf=19, max_depth=None \n",
            "[CV]  n_estimators=260, min_samples_split=8, min_samples_leaf=19, max_depth=None, total=   0.3s\n",
            "[CV] n_estimators=460, min_samples_split=6, min_samples_leaf=9, max_depth=None \n",
            "[CV]  n_estimators=460, min_samples_split=6, min_samples_leaf=9, max_depth=None, total=   0.6s\n",
            "[CV] n_estimators=460, min_samples_split=6, min_samples_leaf=9, max_depth=None \n",
            "[CV]  n_estimators=460, min_samples_split=6, min_samples_leaf=9, max_depth=None, total=   0.6s\n",
            "[CV] n_estimators=460, min_samples_split=6, min_samples_leaf=9, max_depth=None \n",
            "[CV]  n_estimators=460, min_samples_split=6, min_samples_leaf=9, max_depth=None, total=   0.6s\n",
            "[CV] n_estimators=460, min_samples_split=6, min_samples_leaf=9, max_depth=None \n",
            "[CV]  n_estimators=460, min_samples_split=6, min_samples_leaf=9, max_depth=None, total=   0.6s\n",
            "[CV] n_estimators=460, min_samples_split=6, min_samples_leaf=9, max_depth=None \n",
            "[CV]  n_estimators=460, min_samples_split=6, min_samples_leaf=9, max_depth=None, total=   0.7s\n",
            "[CV] n_estimators=560, min_samples_split=6, min_samples_leaf=7, max_depth=3 \n",
            "[CV]  n_estimators=560, min_samples_split=6, min_samples_leaf=7, max_depth=3, total=   0.8s\n",
            "[CV] n_estimators=560, min_samples_split=6, min_samples_leaf=7, max_depth=3 \n",
            "[CV]  n_estimators=560, min_samples_split=6, min_samples_leaf=7, max_depth=3, total=   0.7s\n",
            "[CV] n_estimators=560, min_samples_split=6, min_samples_leaf=7, max_depth=3 \n",
            "[CV]  n_estimators=560, min_samples_split=6, min_samples_leaf=7, max_depth=3, total=   0.8s\n",
            "[CV] n_estimators=560, min_samples_split=6, min_samples_leaf=7, max_depth=3 \n",
            "[CV]  n_estimators=560, min_samples_split=6, min_samples_leaf=7, max_depth=3, total=   0.8s\n",
            "[CV] n_estimators=560, min_samples_split=6, min_samples_leaf=7, max_depth=3 \n",
            "[CV]  n_estimators=560, min_samples_split=6, min_samples_leaf=7, max_depth=3, total=   0.7s\n"
          ],
          "name": "stdout"
        },
        {
          "output_type": "stream",
          "text": [
            "[Parallel(n_jobs=1)]: Done 100 out of 100 | elapsed:  1.1min finished\n"
          ],
          "name": "stderr"
        },
        {
          "output_type": "execute_result",
          "data": {
            "text/plain": [
              "RandomizedSearchCV(cv=5, error_score=nan,\n",
              "                   estimator=RandomForestClassifier(bootstrap=True,\n",
              "                                                    ccp_alpha=0.0,\n",
              "                                                    class_weight=None,\n",
              "                                                    criterion='gini',\n",
              "                                                    max_depth=None,\n",
              "                                                    max_features='auto',\n",
              "                                                    max_leaf_nodes=None,\n",
              "                                                    max_samples=None,\n",
              "                                                    min_impurity_decrease=0.0,\n",
              "                                                    min_impurity_split=None,\n",
              "                                                    min_samples_leaf=1,\n",
              "                                                    min_samples_split=2,\n",
              "                                                    min_weight_fraction_leaf=0.0,\n",
              "                                                    n_estimators=100,\n",
              "                                                    n_jobs...\n",
              "                   param_distributions={'max_depth': [None, 3, 5, 10],\n",
              "                                        'min_samples_leaf': array([ 1,  3,  5,  7,  9, 11, 13, 15, 17, 19]),\n",
              "                                        'min_samples_split': array([ 2,  4,  6,  8, 10, 12, 14, 16, 18]),\n",
              "                                        'n_estimators': array([ 10,  60, 110, 160, 210, 260, 310, 360, 410, 460, 510, 560, 610,\n",
              "       660, 710, 760, 810, 860, 910, 960])},\n",
              "                   pre_dispatch='2*n_jobs', random_state=None, refit=True,\n",
              "                   return_train_score=False, scoring=None, verbose=2)"
            ]
          },
          "metadata": {
            "tags": []
          },
          "execution_count": 99
        }
      ]
    },
    {
      "cell_type": "code",
      "metadata": {
        "id": "ZNbhnW-1cesT",
        "colab": {
          "base_uri": "https://localhost:8080/"
        },
        "outputId": "754d748a-c4c9-4e2a-925b-91c3cac6dd59"
      },
      "source": [
        "rs_rf_clf.best_params_"
      ],
      "execution_count": null,
      "outputs": [
        {
          "output_type": "execute_result",
          "data": {
            "text/plain": [
              "{'max_depth': 3,\n",
              " 'min_samples_leaf': 19,\n",
              " 'min_samples_split': 4,\n",
              " 'n_estimators': 210}"
            ]
          },
          "metadata": {
            "tags": []
          },
          "execution_count": 100
        }
      ]
    },
    {
      "cell_type": "code",
      "metadata": {
        "id": "PaDLEi9Acol9",
        "colab": {
          "base_uri": "https://localhost:8080/"
        },
        "outputId": "aafcadb4-802e-44ef-c7cc-9410d7171399"
      },
      "source": [
        "#now find out the score\n",
        "rs_rf_clf.score(X_test,y_test)"
      ],
      "execution_count": null,
      "outputs": [
        {
          "output_type": "execute_result",
          "data": {
            "text/plain": [
              "0.8688524590163934"
            ]
          },
          "metadata": {
            "tags": []
          },
          "execution_count": 101
        }
      ]
    },
    {
      "cell_type": "markdown",
      "metadata": {
        "id": "bEzquzZ1eXNT"
      },
      "source": [
        "Even after improving scores a little bit after tuning random forest(baseline model score:83%,tuned model score:87%),logistic regression without tuning still performs well."
      ]
    },
    {
      "cell_type": "markdown",
      "metadata": {
        "id": "Wpz4OnCofEpv"
      },
      "source": [
        "Thus now,we will perform GridSearchCV to improve the logistic regression:"
      ]
    },
    {
      "cell_type": "code",
      "metadata": {
        "id": "nxRMEZNZc2KZ",
        "colab": {
          "base_uri": "https://localhost:8080/"
        },
        "outputId": "697cc05e-03a1-4f2a-ad0e-7b292f9a36ee"
      },
      "source": [
        "#creating the grid for logistic regression for grid search\n",
        "gs_lr_grid={'C':np.logspace(-4,4,30),\n",
        "            'solver':['liblinear']}\n",
        "#start the grid seearch\n",
        "gs_lr_clf=GridSearchCV(LogisticRegression(),\n",
        "                       param_grid=gs_lr_grid,\n",
        "                       cv=5,\n",
        "                       verbose=2)\n",
        "#fit the new model\n",
        "gs_lr_clf.fit(X_train,y_train)"
      ],
      "execution_count": null,
      "outputs": [
        {
          "output_type": "stream",
          "text": [
            "Fitting 5 folds for each of 30 candidates, totalling 150 fits\n",
            "[CV] C=0.0001, solver=liblinear ......................................\n",
            "[CV] ....................... C=0.0001, solver=liblinear, total=   0.0s\n",
            "[CV] C=0.0001, solver=liblinear ......................................\n",
            "[CV] ....................... C=0.0001, solver=liblinear, total=   0.0s\n",
            "[CV] C=0.0001, solver=liblinear ......................................\n",
            "[CV] ....................... C=0.0001, solver=liblinear, total=   0.0s\n",
            "[CV] C=0.0001, solver=liblinear ......................................\n",
            "[CV] ....................... C=0.0001, solver=liblinear, total=   0.0s\n",
            "[CV] C=0.0001, solver=liblinear ......................................\n",
            "[CV] ....................... C=0.0001, solver=liblinear, total=   0.0s\n",
            "[CV] C=0.00018873918221350977, solver=liblinear ......................\n",
            "[CV] ....... C=0.00018873918221350977, solver=liblinear, total=   0.0s\n",
            "[CV] C=0.00018873918221350977, solver=liblinear ......................\n",
            "[CV] ....... C=0.00018873918221350977, solver=liblinear, total=   0.0s\n",
            "[CV] C=0.00018873918221350977, solver=liblinear ......................\n",
            "[CV] ....... C=0.00018873918221350977, solver=liblinear, total=   0.0s\n",
            "[CV] C=0.00018873918221350977, solver=liblinear ......................\n",
            "[CV] ....... C=0.00018873918221350977, solver=liblinear, total=   0.0s\n",
            "[CV] C=0.00018873918221350977, solver=liblinear ......................\n",
            "[CV] ....... C=0.00018873918221350977, solver=liblinear, total=   0.0s\n",
            "[CV] C=0.0003562247890262444, solver=liblinear .......................\n",
            "[CV] ........ C=0.0003562247890262444, solver=liblinear, total=   0.0s\n",
            "[CV] C=0.0003562247890262444, solver=liblinear .......................\n",
            "[CV] ........ C=0.0003562247890262444, solver=liblinear, total=   0.0s\n",
            "[CV] C=0.0003562247890262444, solver=liblinear .......................\n",
            "[CV] ........ C=0.0003562247890262444, solver=liblinear, total=   0.0s\n",
            "[CV] C=0.0003562247890262444, solver=liblinear .......................\n",
            "[CV] ........ C=0.0003562247890262444, solver=liblinear, total=   0.0s\n",
            "[CV] C=0.0003562247890262444, solver=liblinear .......................\n",
            "[CV] ........ C=0.0003562247890262444, solver=liblinear, total=   0.0s\n",
            "[CV] C=0.0006723357536499335, solver=liblinear .......................\n",
            "[CV] ........ C=0.0006723357536499335, solver=liblinear, total=   0.0s\n",
            "[CV] C=0.0006723357536499335, solver=liblinear .......................\n",
            "[CV] ........ C=0.0006723357536499335, solver=liblinear, total=   0.0s\n",
            "[CV] C=0.0006723357536499335, solver=liblinear .......................\n",
            "[CV] ........ C=0.0006723357536499335, solver=liblinear, total=   0.0s\n",
            "[CV] C=0.0006723357536499335, solver=liblinear .......................\n",
            "[CV] ........ C=0.0006723357536499335, solver=liblinear, total=   0.0s\n",
            "[CV] C=0.0006723357536499335, solver=liblinear .......................\n",
            "[CV] ........ C=0.0006723357536499335, solver=liblinear, total=   0.0s\n",
            "[CV] C=0.0012689610031679222, solver=liblinear .......................\n",
            "[CV] ........ C=0.0012689610031679222, solver=liblinear, total=   0.0s\n",
            "[CV] C=0.0012689610031679222, solver=liblinear .......................\n",
            "[CV] ........ C=0.0012689610031679222, solver=liblinear, total=   0.0s\n",
            "[CV] C=0.0012689610031679222, solver=liblinear .......................\n",
            "[CV] ........ C=0.0012689610031679222, solver=liblinear, total=   0.0s\n",
            "[CV] C=0.0012689610031679222, solver=liblinear .......................\n",
            "[CV] ........ C=0.0012689610031679222, solver=liblinear, total=   0.0s\n",
            "[CV] C=0.0012689610031679222, solver=liblinear .......................\n",
            "[CV] ........ C=0.0012689610031679222, solver=liblinear, total=   0.0s\n",
            "[CV] C=0.002395026619987486, solver=liblinear ........................\n",
            "[CV] ......... C=0.002395026619987486, solver=liblinear, total=   0.0s\n",
            "[CV] C=0.002395026619987486, solver=liblinear ........................\n",
            "[CV] ......... C=0.002395026619987486, solver=liblinear, total=   0.0s\n",
            "[CV] C=0.002395026619987486, solver=liblinear ........................\n",
            "[CV] ......... C=0.002395026619987486, solver=liblinear, total=   0.0s\n",
            "[CV] C=0.002395026619987486, solver=liblinear ........................\n",
            "[CV] ......... C=0.002395026619987486, solver=liblinear, total=   0.0s\n",
            "[CV] C=0.002395026619987486, solver=liblinear ........................\n",
            "[CV] ......... C=0.002395026619987486, solver=liblinear, total=   0.0s\n",
            "[CV] C=0.004520353656360241, solver=liblinear ........................\n",
            "[CV] ......... C=0.004520353656360241, solver=liblinear, total=   0.0s\n",
            "[CV] C=0.004520353656360241, solver=liblinear ........................\n",
            "[CV] ......... C=0.004520353656360241, solver=liblinear, total=   0.0s\n",
            "[CV] C=0.004520353656360241, solver=liblinear ........................\n",
            "[CV] ......... C=0.004520353656360241, solver=liblinear, total=   0.0s\n",
            "[CV] C=0.004520353656360241, solver=liblinear ........................\n",
            "[CV] ......... C=0.004520353656360241, solver=liblinear, total=   0.0s\n",
            "[CV] C=0.004520353656360241, solver=liblinear ........................\n",
            "[CV] ......... C=0.004520353656360241, solver=liblinear, total=   0.0s\n",
            "[CV] C=0.008531678524172805, solver=liblinear ........................\n",
            "[CV] ......... C=0.008531678524172805, solver=liblinear, total=   0.0s\n",
            "[CV] C=0.008531678524172805, solver=liblinear ........................\n",
            "[CV] ......... C=0.008531678524172805, solver=liblinear, total=   0.0s\n",
            "[CV] C=0.008531678524172805, solver=liblinear ........................\n",
            "[CV] ......... C=0.008531678524172805, solver=liblinear, total=   0.0s\n",
            "[CV] C=0.008531678524172805, solver=liblinear ........................\n",
            "[CV] ......... C=0.008531678524172805, solver=liblinear, total=   0.0s\n",
            "[CV] C=0.008531678524172805, solver=liblinear ........................\n",
            "[CV] ......... C=0.008531678524172805, solver=liblinear, total=   0.0s\n",
            "[CV] C=0.01610262027560939, solver=liblinear .........................\n",
            "[CV] .......... C=0.01610262027560939, solver=liblinear, total=   0.0s\n",
            "[CV] C=0.01610262027560939, solver=liblinear .........................\n"
          ],
          "name": "stdout"
        },
        {
          "output_type": "stream",
          "text": [
            "[Parallel(n_jobs=1)]: Using backend SequentialBackend with 1 concurrent workers.\n",
            "[Parallel(n_jobs=1)]: Done   1 out of   1 | elapsed:    0.0s remaining:    0.0s\n"
          ],
          "name": "stderr"
        },
        {
          "output_type": "stream",
          "text": [
            "[CV] .......... C=0.01610262027560939, solver=liblinear, total=   0.0s\n",
            "[CV] C=0.01610262027560939, solver=liblinear .........................\n",
            "[CV] .......... C=0.01610262027560939, solver=liblinear, total=   0.0s\n",
            "[CV] C=0.01610262027560939, solver=liblinear .........................\n",
            "[CV] .......... C=0.01610262027560939, solver=liblinear, total=   0.0s\n",
            "[CV] C=0.01610262027560939, solver=liblinear .........................\n",
            "[CV] .......... C=0.01610262027560939, solver=liblinear, total=   0.0s\n",
            "[CV] C=0.03039195382313198, solver=liblinear .........................\n",
            "[CV] .......... C=0.03039195382313198, solver=liblinear, total=   0.0s\n",
            "[CV] C=0.03039195382313198, solver=liblinear .........................\n",
            "[CV] .......... C=0.03039195382313198, solver=liblinear, total=   0.0s\n",
            "[CV] C=0.03039195382313198, solver=liblinear .........................\n",
            "[CV] .......... C=0.03039195382313198, solver=liblinear, total=   0.0s\n",
            "[CV] C=0.03039195382313198, solver=liblinear .........................\n",
            "[CV] .......... C=0.03039195382313198, solver=liblinear, total=   0.0s\n",
            "[CV] C=0.03039195382313198, solver=liblinear .........................\n",
            "[CV] .......... C=0.03039195382313198, solver=liblinear, total=   0.0s\n",
            "[CV] C=0.05736152510448681, solver=liblinear .........................\n",
            "[CV] .......... C=0.05736152510448681, solver=liblinear, total=   0.0s\n",
            "[CV] C=0.05736152510448681, solver=liblinear .........................\n",
            "[CV] .......... C=0.05736152510448681, solver=liblinear, total=   0.0s\n",
            "[CV] C=0.05736152510448681, solver=liblinear .........................\n",
            "[CV] .......... C=0.05736152510448681, solver=liblinear, total=   0.0s\n",
            "[CV] C=0.05736152510448681, solver=liblinear .........................\n",
            "[CV] .......... C=0.05736152510448681, solver=liblinear, total=   0.0s\n",
            "[CV] C=0.05736152510448681, solver=liblinear .........................\n",
            "[CV] .......... C=0.05736152510448681, solver=liblinear, total=   0.0s\n",
            "[CV] C=0.1082636733874054, solver=liblinear ..........................\n",
            "[CV] ........... C=0.1082636733874054, solver=liblinear, total=   0.0s\n",
            "[CV] C=0.1082636733874054, solver=liblinear ..........................\n",
            "[CV] ........... C=0.1082636733874054, solver=liblinear, total=   0.0s\n",
            "[CV] C=0.1082636733874054, solver=liblinear ..........................\n",
            "[CV] ........... C=0.1082636733874054, solver=liblinear, total=   0.0s\n",
            "[CV] C=0.1082636733874054, solver=liblinear ..........................\n",
            "[CV] ........... C=0.1082636733874054, solver=liblinear, total=   0.0s\n",
            "[CV] C=0.1082636733874054, solver=liblinear ..........................\n",
            "[CV] ........... C=0.1082636733874054, solver=liblinear, total=   0.0s\n",
            "[CV] C=0.20433597178569418, solver=liblinear .........................\n",
            "[CV] .......... C=0.20433597178569418, solver=liblinear, total=   0.0s\n",
            "[CV] C=0.20433597178569418, solver=liblinear .........................\n",
            "[CV] .......... C=0.20433597178569418, solver=liblinear, total=   0.0s\n",
            "[CV] C=0.20433597178569418, solver=liblinear .........................\n",
            "[CV] .......... C=0.20433597178569418, solver=liblinear, total=   0.0s\n",
            "[CV] C=0.20433597178569418, solver=liblinear .........................\n",
            "[CV] .......... C=0.20433597178569418, solver=liblinear, total=   0.0s\n",
            "[CV] C=0.20433597178569418, solver=liblinear .........................\n",
            "[CV] .......... C=0.20433597178569418, solver=liblinear, total=   0.0s\n",
            "[CV] C=0.38566204211634725, solver=liblinear .........................\n",
            "[CV] .......... C=0.38566204211634725, solver=liblinear, total=   0.0s\n",
            "[CV] C=0.38566204211634725, solver=liblinear .........................\n",
            "[CV] .......... C=0.38566204211634725, solver=liblinear, total=   0.0s\n",
            "[CV] C=0.38566204211634725, solver=liblinear .........................\n",
            "[CV] .......... C=0.38566204211634725, solver=liblinear, total=   0.0s\n",
            "[CV] C=0.38566204211634725, solver=liblinear .........................\n",
            "[CV] .......... C=0.38566204211634725, solver=liblinear, total=   0.0s\n",
            "[CV] C=0.38566204211634725, solver=liblinear .........................\n",
            "[CV] .......... C=0.38566204211634725, solver=liblinear, total=   0.0s\n",
            "[CV] C=0.7278953843983146, solver=liblinear ..........................\n",
            "[CV] ........... C=0.7278953843983146, solver=liblinear, total=   0.0s\n",
            "[CV] C=0.7278953843983146, solver=liblinear ..........................\n",
            "[CV] ........... C=0.7278953843983146, solver=liblinear, total=   0.0s\n",
            "[CV] C=0.7278953843983146, solver=liblinear ..........................\n",
            "[CV] ........... C=0.7278953843983146, solver=liblinear, total=   0.0s\n",
            "[CV] C=0.7278953843983146, solver=liblinear ..........................\n",
            "[CV] ........... C=0.7278953843983146, solver=liblinear, total=   0.0s\n",
            "[CV] C=0.7278953843983146, solver=liblinear ..........................\n",
            "[CV] ........... C=0.7278953843983146, solver=liblinear, total=   0.0s\n",
            "[CV] C=1.3738237958832638, solver=liblinear ..........................\n",
            "[CV] ........... C=1.3738237958832638, solver=liblinear, total=   0.0s\n",
            "[CV] C=1.3738237958832638, solver=liblinear ..........................\n",
            "[CV] ........... C=1.3738237958832638, solver=liblinear, total=   0.0s\n",
            "[CV] C=1.3738237958832638, solver=liblinear ..........................\n",
            "[CV] ........... C=1.3738237958832638, solver=liblinear, total=   0.0s\n",
            "[CV] C=1.3738237958832638, solver=liblinear ..........................\n",
            "[CV] ........... C=1.3738237958832638, solver=liblinear, total=   0.0s\n",
            "[CV] C=1.3738237958832638, solver=liblinear ..........................\n",
            "[CV] ........... C=1.3738237958832638, solver=liblinear, total=   0.0s\n",
            "[CV] C=2.592943797404667, solver=liblinear ...........................\n",
            "[CV] ............ C=2.592943797404667, solver=liblinear, total=   0.0s\n",
            "[CV] C=2.592943797404667, solver=liblinear ...........................\n",
            "[CV] ............ C=2.592943797404667, solver=liblinear, total=   0.0s\n",
            "[CV] C=2.592943797404667, solver=liblinear ...........................\n",
            "[CV] ............ C=2.592943797404667, solver=liblinear, total=   0.0s\n",
            "[CV] C=2.592943797404667, solver=liblinear ...........................\n",
            "[CV] ............ C=2.592943797404667, solver=liblinear, total=   0.0s\n",
            "[CV] C=2.592943797404667, solver=liblinear ...........................\n",
            "[CV] ............ C=2.592943797404667, solver=liblinear, total=   0.0s\n",
            "[CV] C=4.893900918477489, solver=liblinear ...........................\n",
            "[CV] ............ C=4.893900918477489, solver=liblinear, total=   0.0s\n",
            "[CV] C=4.893900918477489, solver=liblinear ...........................\n",
            "[CV] ............ C=4.893900918477489, solver=liblinear, total=   0.0s\n",
            "[CV] C=4.893900918477489, solver=liblinear ...........................\n",
            "[CV] ............ C=4.893900918477489, solver=liblinear, total=   0.0s\n",
            "[CV] C=4.893900918477489, solver=liblinear ...........................\n",
            "[CV] ............ C=4.893900918477489, solver=liblinear, total=   0.0s\n",
            "[CV] C=4.893900918477489, solver=liblinear ...........................\n",
            "[CV] ............ C=4.893900918477489, solver=liblinear, total=   0.0s\n",
            "[CV] C=9.236708571873866, solver=liblinear ...........................\n",
            "[CV] ............ C=9.236708571873866, solver=liblinear, total=   0.0s\n",
            "[CV] C=9.236708571873866, solver=liblinear ...........................\n",
            "[CV] ............ C=9.236708571873866, solver=liblinear, total=   0.0s\n",
            "[CV] C=9.236708571873866, solver=liblinear ...........................\n",
            "[CV] ............ C=9.236708571873866, solver=liblinear, total=   0.0s\n",
            "[CV] C=9.236708571873866, solver=liblinear ...........................\n",
            "[CV] ............ C=9.236708571873866, solver=liblinear, total=   0.0s\n",
            "[CV] C=9.236708571873866, solver=liblinear ...........................\n",
            "[CV] ............ C=9.236708571873866, solver=liblinear, total=   0.0s\n",
            "[CV] C=17.433288221999874, solver=liblinear ..........................\n",
            "[CV] ........... C=17.433288221999874, solver=liblinear, total=   0.0s\n",
            "[CV] C=17.433288221999874, solver=liblinear ..........................\n",
            "[CV] ........... C=17.433288221999874, solver=liblinear, total=   0.0s\n",
            "[CV] C=17.433288221999874, solver=liblinear ..........................\n",
            "[CV] ........... C=17.433288221999874, solver=liblinear, total=   0.0s\n",
            "[CV] C=17.433288221999874, solver=liblinear ..........................\n",
            "[CV] ........... C=17.433288221999874, solver=liblinear, total=   0.0s\n",
            "[CV] C=17.433288221999874, solver=liblinear ..........................\n",
            "[CV] ........... C=17.433288221999874, solver=liblinear, total=   0.0s\n",
            "[CV] C=32.90344562312671, solver=liblinear ...........................\n",
            "[CV] ............ C=32.90344562312671, solver=liblinear, total=   0.0s\n",
            "[CV] C=32.90344562312671, solver=liblinear ...........................\n",
            "[CV] ............ C=32.90344562312671, solver=liblinear, total=   0.0s\n",
            "[CV] C=32.90344562312671, solver=liblinear ...........................\n",
            "[CV] ............ C=32.90344562312671, solver=liblinear, total=   0.0s\n",
            "[CV] C=32.90344562312671, solver=liblinear ...........................\n",
            "[CV] ............ C=32.90344562312671, solver=liblinear, total=   0.0s\n",
            "[CV] C=32.90344562312671, solver=liblinear ...........................\n",
            "[CV] ............ C=32.90344562312671, solver=liblinear, total=   0.0s\n",
            "[CV] C=62.10169418915616, solver=liblinear ...........................\n",
            "[CV] ............ C=62.10169418915616, solver=liblinear, total=   0.0s\n",
            "[CV] C=62.10169418915616, solver=liblinear ...........................\n",
            "[CV] ............ C=62.10169418915616, solver=liblinear, total=   0.0s\n",
            "[CV] C=62.10169418915616, solver=liblinear ...........................\n",
            "[CV] ............ C=62.10169418915616, solver=liblinear, total=   0.0s\n",
            "[CV] C=62.10169418915616, solver=liblinear ...........................\n",
            "[CV] ............ C=62.10169418915616, solver=liblinear, total=   0.0s\n",
            "[CV] C=62.10169418915616, solver=liblinear ...........................\n",
            "[CV] ............ C=62.10169418915616, solver=liblinear, total=   0.0s\n",
            "[CV] C=117.21022975334793, solver=liblinear ..........................\n",
            "[CV] ........... C=117.21022975334793, solver=liblinear, total=   0.0s\n",
            "[CV] C=117.21022975334793, solver=liblinear ..........................\n",
            "[CV] ........... C=117.21022975334793, solver=liblinear, total=   0.0s\n",
            "[CV] C=117.21022975334793, solver=liblinear ..........................\n",
            "[CV] ........... C=117.21022975334793, solver=liblinear, total=   0.0s\n",
            "[CV] C=117.21022975334793, solver=liblinear ..........................\n",
            "[CV] ........... C=117.21022975334793, solver=liblinear, total=   0.0s\n",
            "[CV] C=117.21022975334793, solver=liblinear ..........................\n",
            "[CV] ........... C=117.21022975334793, solver=liblinear, total=   0.0s\n",
            "[CV] C=221.22162910704503, solver=liblinear ..........................\n",
            "[CV] ........... C=221.22162910704503, solver=liblinear, total=   0.0s\n",
            "[CV] C=221.22162910704503, solver=liblinear ..........................\n",
            "[CV] ........... C=221.22162910704503, solver=liblinear, total=   0.0s\n",
            "[CV] C=221.22162910704503, solver=liblinear ..........................\n",
            "[CV] ........... C=221.22162910704503, solver=liblinear, total=   0.0s\n",
            "[CV] C=221.22162910704503, solver=liblinear ..........................\n",
            "[CV] ........... C=221.22162910704503, solver=liblinear, total=   0.0s\n",
            "[CV] C=221.22162910704503, solver=liblinear ..........................\n",
            "[CV] ........... C=221.22162910704503, solver=liblinear, total=   0.0s\n",
            "[CV] C=417.53189365604004, solver=liblinear ..........................\n",
            "[CV] ........... C=417.53189365604004, solver=liblinear, total=   0.0s\n",
            "[CV] C=417.53189365604004, solver=liblinear ..........................\n",
            "[CV] ........... C=417.53189365604004, solver=liblinear, total=   0.0s\n",
            "[CV] C=417.53189365604004, solver=liblinear ..........................\n",
            "[CV] ........... C=417.53189365604004, solver=liblinear, total=   0.0s\n",
            "[CV] C=417.53189365604004, solver=liblinear ..........................\n",
            "[CV] ........... C=417.53189365604004, solver=liblinear, total=   0.0s\n",
            "[CV] C=417.53189365604004, solver=liblinear ..........................\n",
            "[CV] ........... C=417.53189365604004, solver=liblinear, total=   0.0s\n",
            "[CV] C=788.0462815669904, solver=liblinear ...........................\n",
            "[CV] ............ C=788.0462815669904, solver=liblinear, total=   0.0s\n",
            "[CV] C=788.0462815669904, solver=liblinear ...........................\n",
            "[CV] ............ C=788.0462815669904, solver=liblinear, total=   0.0s\n",
            "[CV] C=788.0462815669904, solver=liblinear ...........................\n",
            "[CV] ............ C=788.0462815669904, solver=liblinear, total=   0.0s\n",
            "[CV] C=788.0462815669904, solver=liblinear ...........................\n",
            "[CV] ............ C=788.0462815669904, solver=liblinear, total=   0.0s\n",
            "[CV] C=788.0462815669904, solver=liblinear ...........................\n",
            "[CV] ............ C=788.0462815669904, solver=liblinear, total=   0.0s\n",
            "[CV] C=1487.3521072935118, solver=liblinear ..........................\n",
            "[CV] ........... C=1487.3521072935118, solver=liblinear, total=   0.0s\n",
            "[CV] C=1487.3521072935118, solver=liblinear ..........................\n",
            "[CV] ........... C=1487.3521072935118, solver=liblinear, total=   0.0s\n",
            "[CV] C=1487.3521072935118, solver=liblinear ..........................\n",
            "[CV] ........... C=1487.3521072935118, solver=liblinear, total=   0.0s\n",
            "[CV] C=1487.3521072935118, solver=liblinear ..........................\n",
            "[CV] ........... C=1487.3521072935118, solver=liblinear, total=   0.0s\n",
            "[CV] C=1487.3521072935118, solver=liblinear ..........................\n",
            "[CV] ........... C=1487.3521072935118, solver=liblinear, total=   0.0s\n",
            "[CV] C=2807.2162039411755, solver=liblinear ..........................\n",
            "[CV] ........... C=2807.2162039411755, solver=liblinear, total=   0.0s\n",
            "[CV] C=2807.2162039411755, solver=liblinear ..........................\n",
            "[CV] ........... C=2807.2162039411755, solver=liblinear, total=   0.0s\n",
            "[CV] C=2807.2162039411755, solver=liblinear ..........................\n",
            "[CV] ........... C=2807.2162039411755, solver=liblinear, total=   0.0s\n",
            "[CV] C=2807.2162039411755, solver=liblinear ..........................\n",
            "[CV] ........... C=2807.2162039411755, solver=liblinear, total=   0.0s\n",
            "[CV] C=2807.2162039411755, solver=liblinear ..........................\n",
            "[CV] ........... C=2807.2162039411755, solver=liblinear, total=   0.0s\n",
            "[CV] C=5298.316906283702, solver=liblinear ...........................\n",
            "[CV] ............ C=5298.316906283702, solver=liblinear, total=   0.0s\n",
            "[CV] C=5298.316906283702, solver=liblinear ...........................\n",
            "[CV] ............ C=5298.316906283702, solver=liblinear, total=   0.0s\n",
            "[CV] C=5298.316906283702, solver=liblinear ...........................\n",
            "[CV] ............ C=5298.316906283702, solver=liblinear, total=   0.0s\n",
            "[CV] C=5298.316906283702, solver=liblinear ...........................\n",
            "[CV] ............ C=5298.316906283702, solver=liblinear, total=   0.0s\n",
            "[CV] C=5298.316906283702, solver=liblinear ...........................\n",
            "[CV] ............ C=5298.316906283702, solver=liblinear, total=   0.0s\n",
            "[CV] C=10000.0, solver=liblinear .....................................\n",
            "[CV] ...................... C=10000.0, solver=liblinear, total=   0.0s\n",
            "[CV] C=10000.0, solver=liblinear .....................................\n",
            "[CV] ...................... C=10000.0, solver=liblinear, total=   0.0s\n",
            "[CV] C=10000.0, solver=liblinear .....................................\n",
            "[CV] ...................... C=10000.0, solver=liblinear, total=   0.0s\n",
            "[CV] C=10000.0, solver=liblinear .....................................\n",
            "[CV] ...................... C=10000.0, solver=liblinear, total=   0.0s\n",
            "[CV] C=10000.0, solver=liblinear .....................................\n",
            "[CV] ...................... C=10000.0, solver=liblinear, total=   0.0s\n"
          ],
          "name": "stdout"
        },
        {
          "output_type": "stream",
          "text": [
            "[Parallel(n_jobs=1)]: Done 150 out of 150 | elapsed:    0.8s finished\n"
          ],
          "name": "stderr"
        },
        {
          "output_type": "execute_result",
          "data": {
            "text/plain": [
              "GridSearchCV(cv=5, error_score=nan,\n",
              "             estimator=LogisticRegression(C=1.0, class_weight=None, dual=False,\n",
              "                                          fit_intercept=True,\n",
              "                                          intercept_scaling=1, l1_ratio=None,\n",
              "                                          max_iter=100, multi_class='auto',\n",
              "                                          n_jobs=None, penalty='l2',\n",
              "                                          random_state=None, solver='lbfgs',\n",
              "                                          tol=0.0001, verbose=0,\n",
              "                                          warm_start=False),\n",
              "             iid='deprecated', n_jobs=None,\n",
              "             param_grid={'C': array([1.00000000e-04, 1.8...\n",
              "       2.04335972e-01, 3.85662042e-01, 7.27895384e-01, 1.37382380e+00,\n",
              "       2.59294380e+00, 4.89390092e+00, 9.23670857e+00, 1.74332882e+01,\n",
              "       3.29034456e+01, 6.21016942e+01, 1.17210230e+02, 2.21221629e+02,\n",
              "       4.17531894e+02, 7.88046282e+02, 1.48735211e+03, 2.80721620e+03,\n",
              "       5.29831691e+03, 1.00000000e+04]),\n",
              "                         'solver': ['liblinear']},\n",
              "             pre_dispatch='2*n_jobs', refit=True, return_train_score=False,\n",
              "             scoring=None, verbose=2)"
            ]
          },
          "metadata": {
            "tags": []
          },
          "execution_count": 102
        }
      ]
    },
    {
      "cell_type": "code",
      "metadata": {
        "id": "RBExaMJ_fgsK",
        "colab": {
          "base_uri": "https://localhost:8080/"
        },
        "outputId": "b3b4e1ff-5682-4c0f-f1d2-670840892c2c"
      },
      "source": [
        "#look the best params\n",
        "gs_lr_clf.best_params_"
      ],
      "execution_count": null,
      "outputs": [
        {
          "output_type": "execute_result",
          "data": {
            "text/plain": [
              "{'C': 0.20433597178569418, 'solver': 'liblinear'}"
            ]
          },
          "metadata": {
            "tags": []
          },
          "execution_count": 103
        }
      ]
    },
    {
      "cell_type": "code",
      "metadata": {
        "id": "2m4EnDOVg12D",
        "colab": {
          "base_uri": "https://localhost:8080/"
        },
        "outputId": "cb598072-6da6-4d4a-bd07-83193d4466ce"
      },
      "source": [
        "#checking the score\n",
        "gs_lr_clf.score(X_test,y_test)"
      ],
      "execution_count": null,
      "outputs": [
        {
          "output_type": "execute_result",
          "data": {
            "text/plain": [
              "0.8852459016393442"
            ]
          },
          "metadata": {
            "tags": []
          },
          "execution_count": 104
        }
      ]
    },
    {
      "cell_type": "markdown",
      "metadata": {
        "id": "tMbcje5nk_7E"
      },
      "source": [
        "**Evaluating the new tuned model beyond accuracy:**"
      ]
    },
    {
      "cell_type": "markdown",
      "metadata": {
        "id": "LE8ditnilHPR"
      },
      "source": [
        "We can evaluate it using the following metrics:\n",
        "* Confusion matrix\n",
        "* Feature importance\n",
        "* Classification report\n",
        "* precision\n",
        "* recall\n",
        "* F1 score\n",
        "* ROC curve.\n",
        "\n",
        "Use cross validation wherever possible"
      ]
    },
    {
      "cell_type": "markdown",
      "metadata": {
        "id": "87B3Vsi1pGKJ"
      },
      "source": [
        "ROC curve:"
      ]
    },
    {
      "cell_type": "code",
      "metadata": {
        "id": "VnGgv5M4g9vG"
      },
      "source": [
        "#predicting the values our model predicts on test set\n",
        "y_pred=gs_lr_clf.predict(X_test)"
      ],
      "execution_count": null,
      "outputs": []
    },
    {
      "cell_type": "code",
      "metadata": {
        "id": "AHAGXOiwlio-",
        "colab": {
          "base_uri": "https://localhost:8080/",
          "height": 315
        },
        "outputId": "d26a3db9-b298-4459-c749-b7eb2ef9e4dd"
      },
      "source": [
        "#plotting the ROC curve\n",
        "plot_roc_curve(gs_lr_clf,X_test,y_test) #always evaluate ur models on test sets"
      ],
      "execution_count": null,
      "outputs": [
        {
          "output_type": "execute_result",
          "data": {
            "text/plain": [
              "<sklearn.metrics._plot.roc_curve.RocCurveDisplay at 0x7fe21979b390>"
            ]
          },
          "metadata": {
            "tags": []
          },
          "execution_count": 106
        },
        {
          "output_type": "display_data",
          "data": {
            "image/png": "[encoded data removed]",
            "text/plain": [
              "<Figure size 432x288 with 1 Axes>"
            ]
          },
          "metadata": {
            "tags": []
          }
        }
      ]
    },
    {
      "cell_type": "markdown",
      "metadata": {
        "id": "LF62NVqjmidt"
      },
      "source": [
        "* *Here we got an AUC score of 0.92 which is pretty good(perfect model has an AUC score of 1.0).*\n",
        "* *ROC curve plots true positives against false positives*"
      ]
    },
    {
      "cell_type": "markdown",
      "metadata": {
        "id": "QUtIqe8dpCSy"
      },
      "source": [
        "Confusion Matrix:"
      ]
    },
    {
      "cell_type": "code",
      "metadata": {
        "id": "fe_7vQxOmd2n",
        "colab": {
          "base_uri": "https://localhost:8080/"
        },
        "outputId": "a6c2fb37-8fba-4fa8-adbb-3f4e76d1e3bf"
      },
      "source": [
        "confusion_matrix(y_test,y_pred)"
      ],
      "execution_count": null,
      "outputs": [
        {
          "output_type": "execute_result",
          "data": {
            "text/plain": [
              "array([[25,  4],\n",
              "       [ 3, 29]])"
            ]
          },
          "metadata": {
            "tags": []
          },
          "execution_count": 107
        }
      ]
    },
    {
      "cell_type": "code",
      "metadata": {
        "id": "xh_rmohJnLbe",
        "colab": {
          "base_uri": "https://localhost:8080/",
          "height": 243
        },
        "outputId": "21668ad3-f20a-4724-f4c6-e25b9b9bf132"
      },
      "source": [
        "#visualising the confusion matrix\n",
        "sns.set(font_scale=1.5)\n",
        "def plot_conf_mat(y_test,y_pred):\n",
        "  \"\"\"\n",
        "  This function plots the confusuion matrix and gives a better visual\n",
        "  representation.\n",
        "  \"\"\"\n",
        "  fig,ax=plt.subplots(figsize=(3,3))\n",
        "  ax=sns.heatmap(confusion_matrix(y_test,y_pred),\n",
        "                 annot=True,\n",
        "                 cbar=False)\n",
        "  plt.xlabel('Actual')\n",
        "  plt.ylabel('Predicted')\n",
        "plot_conf_mat(y_test,y_pred)"
      ],
      "execution_count": null,
      "outputs": [
        {
          "output_type": "display_data",
          "data": {
            "image/png": "[encoded data removed]",
            "text/plain": [
              "<Figure size 216x216 with 1 Axes>"
            ]
          },
          "metadata": {
            "tags": []
          }
        }
      ]
    },
    {
      "cell_type": "markdown",
      "metadata": {
        "id": "iNmyOjzYrW5S"
      },
      "source": [
        "*Here we have 4 false negatives(predicted 0 when true was 1) and 3 false positives(predicted 1 when true was 0).Depending on our model,we can chose which one do we want to reduce.However over here,in case of heart disease,both are dangerous and need to be reduced.*"
      ]
    },
    {
      "cell_type": "markdown",
      "metadata": {
        "id": "PVBQx0YRqdir"
      },
      "source": [
        "Classification report:"
      ]
    },
    {
      "cell_type": "code",
      "metadata": {
        "id": "vA6_VTUbolux",
        "colab": {
          "base_uri": "https://localhost:8080/"
        },
        "outputId": "fcbf69e5-424e-49f5-ad1f-44bc390b48fc"
      },
      "source": [
        "print(classification_report(y_test,y_pred))"
      ],
      "execution_count": null,
      "outputs": [
        {
          "output_type": "stream",
          "text": [
            "              precision    recall  f1-score   support\n",
            "\n",
            "           0       0.89      0.86      0.88        29\n",
            "           1       0.88      0.91      0.89        32\n",
            "\n",
            "    accuracy                           0.89        61\n",
            "   macro avg       0.89      0.88      0.88        61\n",
            "weighted avg       0.89      0.89      0.89        61\n",
            "\n"
          ],
          "name": "stdout"
        }
      ]
    },
    {
      "cell_type": "markdown",
      "metadata": {
        "id": "ogFJXzY7sG_L"
      },
      "source": [
        "Now,we can try these evaluation metrics on different splits of train and test data using cross validation."
      ]
    },
    {
      "cell_type": "markdown",
      "metadata": {
        "id": "SDiwO7Z8tos_"
      },
      "source": [
        "**Cross Validation:**"
      ]
    },
    {
      "cell_type": "code",
      "metadata": {
        "id": "mLtjuOyJqj1_",
        "colab": {
          "base_uri": "https://localhost:8080/"
        },
        "outputId": "4e254e73-7eb0-4da3-b5b4-f6fbcf41ac40"
      },
      "source": [
        "#check the best parameters\n",
        "gs_lr_clf.best_params_"
      ],
      "execution_count": null,
      "outputs": [
        {
          "output_type": "execute_result",
          "data": {
            "text/plain": [
              "{'C': 0.20433597178569418, 'solver': 'liblinear'}"
            ]
          },
          "metadata": {
            "tags": []
          },
          "execution_count": 110
        }
      ]
    },
    {
      "cell_type": "code",
      "metadata": {
        "id": "31ccfIjrwW7R"
      },
      "source": [
        "#Now,create a logistic regression model with the best parameters\n",
        "clf=LogisticRegression(C=0.20433597178569418,\n",
        "                       solver='liblinear')"
      ],
      "execution_count": null,
      "outputs": []
    },
    {
      "cell_type": "code",
      "metadata": {
        "id": "vxo-7PC7OOJ0"
      },
      "source": [
        "#create a dictionary of the evaluation metrics\n",
        "eval_metric={'cv_acc':'accuracy',\n",
        "             'cv_precision':'precision',\n",
        "             'cv_recall':'recall',\n",
        "             'cv_f1':'f1'}\n",
        "#create an empty dictionary for cv scores\n",
        "cv_metrics={}"
      ],
      "execution_count": null,
      "outputs": []
    },
    {
      "cell_type": "code",
      "metadata": {
        "id": "UZ4m6rvlNooe"
      },
      "source": [
        "def cross_validated_metric(eval_metric):\n",
        "  \"\"\"\n",
        "  This function performs cross validation and returns the evaluation\n",
        "  metrics for each split\n",
        "  \"\"\"\n",
        "  for name,metric in eval_metric.items():\n",
        "    #accessing the name and key of the eval_metric dictionary\n",
        "    cv_metrics[name]=np.mean(cross_val_score(clf,\n",
        "                                             X,\n",
        "                                             y,\n",
        "                                             cv=5,\n",
        "                                             scoring=metric))\n",
        "  return cv_metrics"
      ],
      "execution_count": null,
      "outputs": []
    },
    {
      "cell_type": "code",
      "metadata": {
        "id": "BG65Bk1uPx3t",
        "colab": {
          "base_uri": "https://localhost:8080/"
        },
        "outputId": "454de946-d082-4507-edb3-3e8570e5718b"
      },
      "source": [
        "cv_metrics=cross_validated_metric(eval_metric)\n",
        "cv_metrics"
      ],
      "execution_count": null,
      "outputs": [
        {
          "output_type": "execute_result",
          "data": {
            "text/plain": [
              "{'cv_acc': 0.8446994535519124,\n",
              " 'cv_f1': 0.8673007976269721,\n",
              " 'cv_precision': 0.8207936507936507,\n",
              " 'cv_recall': 0.9212121212121213}"
            ]
          },
          "metadata": {
            "tags": []
          },
          "execution_count": 117
        }
      ]
    },
    {
      "cell_type": "code",
      "metadata": {
        "id": "A2itGc6xQous",
        "colab": {
          "base_uri": "https://localhost:8080/",
          "height": 488
        },
        "outputId": "628ee16d-15bd-421a-b3b6-1e5837350e6d"
      },
      "source": [
        "#Now we can visualize the cross validation results\n",
        "cv_frame=pd.DataFrame(cv_metrics,index=['scores'])\n",
        "cv_frame.T.plot.bar(title='Cross Validated evaluation metrics',figsize=(10,6));"
      ],
      "execution_count": null,
      "outputs": [
        {
          "output_type": "display_data",
          "data": {
            "image/png": "[encoded data removed]",
            "text/plain": [
              "<Figure size 720x432 with 1 Axes>"
            ]
          },
          "metadata": {
            "tags": []
          }
        }
      ]
    },
    {
      "cell_type": "markdown",
      "metadata": {
        "id": "uZYJK0TdSmuQ"
      },
      "source": [
        "*From the graph,we can see that our logstic regression model performs very well on recall,and does a good job in the other metrics too.*"
      ]
    },
    {
      "cell_type": "markdown",
      "metadata": {
        "id": "yfQb5nOqS4ge"
      },
      "source": [
        "Feauture importance:"
      ]
    },
    {
      "cell_type": "markdown",
      "metadata": {
        "id": "9xyfmI2EYdID"
      },
      "source": [
        "Finding out features that contribute more in predicting the target."
      ]
    },
    {
      "cell_type": "code",
      "metadata": {
        "id": "WRvAdjfZSO0O",
        "colab": {
          "base_uri": "https://localhost:8080/"
        },
        "outputId": "c7b6710d-d2c1-4492-8563-b8d4bfa8efaf"
      },
      "source": [
        "#finding out how the features are related to the target\n",
        "clf.fit(X_train,y_train)"
      ],
      "execution_count": null,
      "outputs": [
        {
          "output_type": "execute_result",
          "data": {
            "text/plain": [
              "LogisticRegression(C=0.20433597178569418, class_weight=None, dual=False,\n",
              "                   fit_intercept=True, intercept_scaling=1, l1_ratio=None,\n",
              "                   max_iter=100, multi_class='auto', n_jobs=None, penalty='l2',\n",
              "                   random_state=None, solver='liblinear', tol=0.0001, verbose=0,\n",
              "                   warm_start=False)"
            ]
          },
          "metadata": {
            "tags": []
          },
          "execution_count": 123
        }
      ]
    },
    {
      "cell_type": "code",
      "metadata": {
        "id": "fpnUTznaX3Fd",
        "colab": {
          "base_uri": "https://localhost:8080/"
        },
        "outputId": "157be2b3-8ed9-45ab-a312-0f2042e0d688"
      },
      "source": [
        "#doing feature importance\n",
        "clf.coef_"
      ],
      "execution_count": null,
      "outputs": [
        {
          "output_type": "execute_result",
          "data": {
            "text/plain": [
              "array([[ 0.00320769, -0.86062049,  0.66001432, -0.01155971, -0.00166496,\n",
              "         0.04017236,  0.31603405,  0.02458922, -0.60470171, -0.56795456,\n",
              "         0.45085392, -0.63733328, -0.67555094]])"
            ]
          },
          "metadata": {
            "tags": []
          },
          "execution_count": 124
        }
      ]
    },
    {
      "cell_type": "code",
      "metadata": {
        "id": "CJxRYoZNX9f9",
        "colab": {
          "base_uri": "https://localhost:8080/"
        },
        "outputId": "8923be41-6385-4149-f71b-2f10426c2b16"
      },
      "source": [
        "#making it in a more understandable way\n",
        "feature_dict=dict(zip(dataset.columns,list(clf.coef_[0])))\n",
        "feature_dict"
      ],
      "execution_count": null,
      "outputs": [
        {
          "output_type": "execute_result",
          "data": {
            "text/plain": [
              "{'age': 0.0032076883508599633,\n",
              " 'ca': -0.6373332766360461,\n",
              " 'chol': -0.0016649614843449207,\n",
              " 'cp': 0.660014324982524,\n",
              " 'exang': -0.604701713592625,\n",
              " 'fbs': 0.040172360271308105,\n",
              " 'oldpeak': -0.5679545646616215,\n",
              " 'restecg': 0.31603405294617176,\n",
              " 'sex': -0.8606204883695241,\n",
              " 'slope': 0.4508539209693025,\n",
              " 'thal': -0.6755509369619848,\n",
              " 'thalach': 0.02458922341328129,\n",
              " 'trestbps': -0.01155970600550047}"
            ]
          },
          "metadata": {
            "tags": []
          },
          "execution_count": 125
        }
      ]
    },
    {
      "cell_type": "code",
      "metadata": {
        "id": "NmdecBF0YXdB",
        "colab": {
          "base_uri": "https://localhost:8080/",
          "height": 363
        },
        "outputId": "830d9ed0-ef13-4430-b741-219fb667fc89"
      },
      "source": [
        "#visualizing this\n",
        "feature_frame=pd.DataFrame(feature_dict,index=[0])\n",
        "feature_frame.T.plot.bar(title='Scores of Features wrt target',legend=False)"
      ],
      "execution_count": null,
      "outputs": [
        {
          "output_type": "execute_result",
          "data": {
            "text/plain": [
              "<matplotlib.axes._subplots.AxesSubplot at 0x7fe215417f60>"
            ]
          },
          "metadata": {
            "tags": []
          },
          "execution_count": 128
        },
        {
          "output_type": "display_data",
          "data": {
            "image/png": "[encoded data removed]",
            "text/plain": [
              "<Figure size 432x288 with 1 Axes>"
            ]
          },
          "metadata": {
            "tags": []
          }
        }
      ]
    },
    {
      "cell_type": "markdown",
      "metadata": {
        "id": "T-o8WAEQZMwA"
      },
      "source": [
        "*This is somewhat similar to correlation matrix.Here,a positive high value indicates that increase in that particular feature increases the target value,whereas negative high value indicates that increasing the feature decreases the target value.*"
      ]
    },
    {
      "cell_type": "markdown",
      "metadata": {
        "id": "xJsEUz_hc-Zd"
      },
      "source": [
        "# **Reviewing the project:**"
      ]
    },
    {
      "cell_type": "markdown",
      "metadata": {
        "id": "Jmnal_KLdjEE"
      },
      "source": [
        "If you're project hasnt hit the expected evaluation metric,then u can:\n",
        "* Collect more data\n",
        "* Try improving your model\n",
        "* Try new models like CatBoost or XGBoost.\n",
        "\n",
        "If you're has hit the evaluation metric,then see how would you share it or export it.\n"
      ]
    }
  ]
}